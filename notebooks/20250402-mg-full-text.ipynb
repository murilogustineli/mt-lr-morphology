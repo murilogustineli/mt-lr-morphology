{
 "cells": [
  {
   "cell_type": "markdown",
   "metadata": {},
   "source": [
    "# Full text papers"
   ]
  },
  {
   "cell_type": "code",
   "execution_count": 1,
   "metadata": {},
   "outputs": [],
   "source": [
    "%load_ext autoreload\n",
    "%autoreload 2"
   ]
  },
  {
   "cell_type": "code",
   "execution_count": null,
   "metadata": {},
   "outputs": [
    {
     "name": "stdout",
     "output_type": "stream",
     "text": [
      "Number of rows: 177\n"
     ]
    },
    {
     "data": {
      "text/html": [
       "<div>\n",
       "<style scoped>\n",
       "    .dataframe tbody tr th:only-of-type {\n",
       "        vertical-align: middle;\n",
       "    }\n",
       "\n",
       "    .dataframe tbody tr th {\n",
       "        vertical-align: top;\n",
       "    }\n",
       "\n",
       "    .dataframe thead th {\n",
       "        text-align: right;\n",
       "    }\n",
       "</style>\n",
       "<table border=\"1\" class=\"dataframe\">\n",
       "  <thead>\n",
       "    <tr style=\"text-align: right;\">\n",
       "      <th></th>\n",
       "      <th>title</th>\n",
       "      <th>text</th>\n",
       "      <th>morphology</th>\n",
       "      <th>methodology</th>\n",
       "    </tr>\n",
       "  </thead>\n",
       "  <tbody>\n",
       "    <tr>\n",
       "      <th>0</th>\n",
       "      <td>a comparative study of english to kannada base...</td>\n",
       "      <td>International Journal of Applied Engineering R...</td>\n",
       "      <td>agglutinat</td>\n",
       "      <td>data augmentation</td>\n",
       "    </tr>\n",
       "    <tr>\n",
       "      <th>1</th>\n",
       "      <td>a comparison of transformer, recurrent neural ...</td>\n",
       "      <td>2020 20th International Conference on Advances...</td>\n",
       "      <td>agglutinat</td>\n",
       "      <td>morphological analyzer, segmentation</td>\n",
       "    </tr>\n",
       "    <tr>\n",
       "      <th>2</th>\n",
       "      <td>a morpheme-based weighting for chinese-mongoli...</td>\n",
       "      <td>IEICE TRANS. INF. &amp; SYST., VOL.E99–D, NO.11 NO...</td>\n",
       "      <td>NaN</td>\n",
       "      <td>segmentation</td>\n",
       "    </tr>\n",
       "  </tbody>\n",
       "</table>\n",
       "</div>"
      ],
      "text/plain": [
       "                                               title  \\\n",
       "0  a comparative study of english to kannada base...   \n",
       "1  a comparison of transformer, recurrent neural ...   \n",
       "2  a morpheme-based weighting for chinese-mongoli...   \n",
       "\n",
       "                                                text  morphology  \\\n",
       "0  International Journal of Applied Engineering R...  agglutinat   \n",
       "1  2020 20th International Conference on Advances...  agglutinat   \n",
       "2  IEICE TRANS. INF. & SYST., VOL.E99–D, NO.11 NO...         NaN   \n",
       "\n",
       "                            methodology  \n",
       "0                     data augmentation  \n",
       "1  morphological analyzer, segmentation  \n",
       "2                          segmentation  "
      ]
     },
     "execution_count": 5,
     "metadata": {},
     "output_type": "execute_result"
    }
   ],
   "source": [
    "from gpt.config import get_dataframe\n",
    "\n",
    "\n",
    "# read data\n",
    "df = get_dataframe(file_name=\"full-text.csv\", read_csv=True)\n",
    "print(f\"Number of rows: {len(df)}\")\n",
    "df.head(3)"
   ]
  },
  {
   "cell_type": "markdown",
   "metadata": {},
   "source": [
    "### gpt context window: 128k tokens"
   ]
  },
  {
   "cell_type": "code",
   "execution_count": 7,
   "metadata": {},
   "outputs": [
    {
     "data": {
      "text/plain": [
       "15001"
      ]
     },
     "execution_count": 7,
     "metadata": {},
     "output_type": "execute_result"
    }
   ],
   "source": [
    "len(df[\"text\"].iloc[0])"
   ]
  },
  {
   "cell_type": "code",
   "execution_count": 9,
   "metadata": {},
   "outputs": [
    {
     "name": "stdout",
     "output_type": "stream",
     "text": [
      "Mean length: 35500.48\n"
     ]
    }
   ],
   "source": [
    "total_length = []\n",
    "for text in df[\"text\"].to_list():\n",
    "    text_length = len(text)\n",
    "    total_length.append(text_length)\n",
    "\n",
    "mean = sum(total_length) / len(total_length)\n",
    "print(f\"Mean length: {round(mean, 2)}\")"
   ]
  },
  {
   "cell_type": "code",
   "execution_count": 34,
   "metadata": {},
   "outputs": [
    {
     "name": "stdout",
     "output_type": "stream",
     "text": [
      "Number of papers: 30\n"
     ]
    },
    {
     "data": {
      "text/plain": [
       "'978-1-6654 -7350 -7/22/$31.00  ©2022  IEEE        '"
      ]
     },
     "execution_count": 34,
     "metadata": {},
     "output_type": "execute_result"
    }
   ],
   "source": [
    "import random\n",
    "\n",
    "papers = df[\"text\"].to_list()\n",
    "# select 30 random papers from list\n",
    "random.seed(42)  # for reproducibility\n",
    "papers_rand = random.sample(papers, 30)\n",
    "print(f\"Number of papers: {len(papers_rand)}\")\n",
    "papers_rand[0][:50]  # print first 50 characters of first paper"
   ]
  },
  {
   "cell_type": "code",
   "execution_count": null,
   "metadata": {},
   "outputs": [],
   "source": []
  }
 ],
 "metadata": {
  "kernelspec": {
   "display_name": "venv",
   "language": "python",
   "name": "python3"
  },
  "language_info": {
   "codemirror_mode": {
    "name": "ipython",
    "version": 3
   },
   "file_extension": ".py",
   "mimetype": "text/x-python",
   "name": "python",
   "nbconvert_exporter": "python",
   "pygments_lexer": "ipython3",
   "version": "3.11.6"
  }
 },
 "nbformat": 4,
 "nbformat_minor": 2
}
