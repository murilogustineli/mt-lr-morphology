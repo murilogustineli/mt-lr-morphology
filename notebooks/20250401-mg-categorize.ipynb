{
 "cells": [
  {
   "cell_type": "markdown",
   "metadata": {},
   "source": [
    "# Categorization of abstracts"
   ]
  },
  {
   "cell_type": "code",
   "execution_count": 17,
   "metadata": {},
   "outputs": [
    {
     "name": "stdout",
     "output_type": "stream",
     "text": [
      "The autoreload extension is already loaded. To reload it, use:\n",
      "  %reload_ext autoreload\n"
     ]
    }
   ],
   "source": [
    "import os\n",
    "from dotenv import load_dotenv\n",
    "from openai import OpenAI\n",
    "\n",
    "%load_ext autoreload\n",
    "%autoreload 2"
   ]
  },
  {
   "cell_type": "code",
   "execution_count": 18,
   "metadata": {},
   "outputs": [],
   "source": [
    "# load environment variables\n",
    "load_dotenv()\n",
    "\n",
    "# get API key\n",
    "api_key = os.getenv(\"OPENAI_API_KEY\")\n",
    "\n",
    "# init OpenAI client\n",
    "client = OpenAI(api_key=api_key)\n",
    "\n",
    "\n",
    "def prompt_gpt(\n",
    "    model,\n",
    "    prompt: str,\n",
    "    temperature: float = 0.0,\n",
    "    max_tokens: int = 200,\n",
    "):\n",
    "    # query ChatGPT\n",
    "    chat_completion = client.chat.completions.create(\n",
    "        model=model,\n",
    "        messages=[\n",
    "            {\n",
    "                \"role\": \"system\",\n",
    "                \"content\": \"You are a helpful assistant designed to carefully analyze academic abstracts based on specific inclusion and exclusion criteria.\",\n",
    "            },\n",
    "            {\n",
    "                \"role\": \"user\",\n",
    "                \"content\": prompt,\n",
    "            },\n",
    "        ],\n",
    "        temperature=temperature,\n",
    "        max_tokens=max_tokens,\n",
    "    )\n",
    "    return chat_completion.choices[0].message.content"
   ]
  },
  {
   "cell_type": "code",
   "execution_count": 19,
   "metadata": {},
   "outputs": [
    {
     "name": "stdout",
     "output_type": "stream",
     "text": [
      "This is a test.\n"
     ]
    }
   ],
   "source": [
    "model = \"gpt-4o-mini\"\n",
    "prompt = \"Say this is a test and nothing else.\"\n",
    "response = prompt_gpt(model, prompt)\n",
    "print(response)"
   ]
  },
  {
   "cell_type": "code",
   "execution_count": 23,
   "metadata": {},
   "outputs": [
    {
     "data": {
      "text/html": [
       "<div>\n",
       "<style scoped>\n",
       "    .dataframe tbody tr th:only-of-type {\n",
       "        vertical-align: middle;\n",
       "    }\n",
       "\n",
       "    .dataframe tbody tr th {\n",
       "        vertical-align: top;\n",
       "    }\n",
       "\n",
       "    .dataframe thead th {\n",
       "        text-align: right;\n",
       "    }\n",
       "</style>\n",
       "<table border=\"1\" class=\"dataframe\">\n",
       "  <thead>\n",
       "    <tr style=\"text-align: right;\">\n",
       "      <th></th>\n",
       "      <th>title</th>\n",
       "      <th>generated_anwers</th>\n",
       "      <th>reasoning</th>\n",
       "    </tr>\n",
       "  </thead>\n",
       "  <tbody>\n",
       "    <tr>\n",
       "      <th>0</th>\n",
       "      <td>atlaslang mts 1- arabic text language into ara...</td>\n",
       "      <td>1. Challenges of morphological complexity   An...</td>\n",
       "      <td>The abstract reveals that the authors are awar...</td>\n",
       "    </tr>\n",
       "    <tr>\n",
       "      <th>1</th>\n",
       "      <td>utilizing lexical similarity between related, ...</td>\n",
       "      <td>1. Challenges of morphological complexity   An...</td>\n",
       "      <td>The abstract provides insights into the techni...</td>\n",
       "    </tr>\n",
       "    <tr>\n",
       "      <th>2</th>\n",
       "      <td>structural biases for improving transformers o...</td>\n",
       "      <td>1. Challenges of morphological complexity   An...</td>\n",
       "      <td>The abstract reveals that the authors are addr...</td>\n",
       "    </tr>\n",
       "    <tr>\n",
       "      <th>3</th>\n",
       "      <td>comparative study of low resource digaru langu...</td>\n",
       "      <td>1. Challenges of morphological complexity   An...</td>\n",
       "      <td>The abstract provides insights into the challe...</td>\n",
       "    </tr>\n",
       "    <tr>\n",
       "      <th>4</th>\n",
       "      <td>hybrid approaches for augmentation of translat...</td>\n",
       "      <td>1. Challenges of morphological complexity   An...</td>\n",
       "      <td>The abstract lacks specific information regard...</td>\n",
       "    </tr>\n",
       "  </tbody>\n",
       "</table>\n",
       "</div>"
      ],
      "text/plain": [
       "                                               title  \\\n",
       "0  atlaslang mts 1- arabic text language into ara...   \n",
       "1  utilizing lexical similarity between related, ...   \n",
       "2  structural biases for improving transformers o...   \n",
       "3  comparative study of low resource digaru langu...   \n",
       "4  hybrid approaches for augmentation of translat...   \n",
       "\n",
       "                                    generated_anwers  \\\n",
       "0  1. Challenges of morphological complexity   An...   \n",
       "1  1. Challenges of morphological complexity   An...   \n",
       "2  1. Challenges of morphological complexity   An...   \n",
       "3  1. Challenges of morphological complexity   An...   \n",
       "4  1. Challenges of morphological complexity   An...   \n",
       "\n",
       "                                           reasoning  \n",
       "0  The abstract reveals that the authors are awar...  \n",
       "1  The abstract provides insights into the techni...  \n",
       "2  The abstract reveals that the authors are addr...  \n",
       "3  The abstract provides insights into the challe...  \n",
       "4  The abstract lacks specific information regard...  "
      ]
     },
     "execution_count": 23,
     "metadata": {},
     "output_type": "execute_result"
    }
   ],
   "source": [
    "import pandas as pd\n",
    "from gpt.config import get_data_path\n",
    "\n",
    "\n",
    "file_name = \"limit_n=10_text_answers_gpt-4o-mini.csv\"\n",
    "data_path = get_data_path()\n",
    "input_path = f\"{data_path}/generated_answers/{file_name}\"\n",
    "df = pd.read_csv(input_path)\n",
    "df.head(5)"
   ]
  },
  {
   "cell_type": "code",
   "execution_count": null,
   "metadata": {},
   "outputs": [
    {
     "data": {
      "text/plain": [
       "['1. Challenges of morphological complexity   Answer: Yes, the paper discusses challenges posed by the morphological complexity of the Arabic language.   Evidence: The abstract mentions that \"Arabic is a Semitic language written from right to left. It is a derivational and flexional language, which is morphologically complex,\" indicating the inherent challenges in processing Arabic due to its morphological structure.  2. Proposed techniques   Answer: The paper proposes a combination of rule-based and example-based techniques to address the challenges of morphological complexity in machine translation.   Evidence: The abstract states that the system \"is based on rule-based Interlingua and example-based approaches,\" highlighting the methods employed to tackle the complexities of Arabic text translation into Arabic Sign Language.  3. Morphology-aware techniques   Answer: Yes, the paper utilizes morphology-aware techniques, specifically a morphological analyzer for processing Arabic text.   Evidence: The abstract mentions the use of the \"ALKHALIL morpho system\" to extract the morphological properties of each word, which is a key aspect of handling morphological complexity in the translation process.  4. Specific findings per morphological typology (e.g., polysynthetic, agglutinative, fusional)   Answer: The paper does not provide specific findings or outcomes related to different morphological typologies such as polysynthetic, agglutinative, or fusional languages.   Evidence: The abstract focuses primarily on the challenges and techniques related to the Arabic language without discussing outcomes for various morphological typologies.',\n",
       " '1. Challenges of morphological complexity   Answer: The paper does not explicitly discuss the challenges posed by the morphological complexity of the target language(s).   Evidence: The abstract mentions the need for machine translation between related languages and the lack of parallel corpora but does not detail specific challenges related to morphological complexity for different typologies.  2. Proposed techniques   Answer: The paper proposes using subword-level pivot-based statistical machine translation (SMT) models to address challenges in low-resource contexts.   Evidence: The abstract states, \"We show that a subword-level pivot-based SMT model using a related pivot language is substantially better than word and morpheme-level pivot models,\" indicating a focus on subword-level techniques.  3. Morphology-aware techniques   Answer: Yes, the paper employs subword modeling techniques, specifically orthographic syllables and byte pair encoding (BPE), which outperform other approaches.   Evidence: The abstract notes that \"OS and BPE-level pivot models significantly outperform word, morpheme and character-level pivot models,\" highlighting the effectiveness of these morphology-aware techniques.  4. Specific findings per morphological typology (e.g., polysynthetic, agglutinative, fusional)   Answer: The paper reports improvements in translation performance for agglutinative Dravidian languages but does not provide detailed outcomes for specific morphological typologies.   Evidence: The abstract mentions, \"The greatest improvement is observed when the source and target languages belong to different families (though they have a contact relationship),\" suggesting that the techniques are effective across different language families, including agglutinative languages.',\n",
       " '1. Challenges of morphological complexity   Answer: Yes, the paper discusses challenges posed by morphological complexity, specifically in translating into morphologically rich languages.   Evidence: The abstract mentions that there has been less progress on language pairs involving morphologically rich languages and highlights the complexity of morphology in languages like Turkish and Inuktitut.  2. Proposed techniques   Answer: The paper proposes two techniques to address the challenges of morphological complexity: the TP-Transformer and morphological tokenization.   Evidence: The abstract states, \"we investigate two methods for building in such a bias. One method, the TP-Transformer, augments the traditional Transformer architecture to include an additional component to represent structure. The second method imbues structure at the data level by segmenting the data with morphological tokenization.\"  3. Morphology-aware techniques   Answer: Yes, the paper uses morphology-aware techniques, specifically morphological tokenization, and compares their effectiveness to standard byte pair encoding (BPE).   Evidence: The abstract notes that \"using morphologically segmented data helps substantially with models that are trained on small datasets\" and provides BLEU score improvements when using morphological tokenization compared to BPE.  4. Specific findings per morphological typology (e.g., polysynthetic, agglutinative, fusional)   Answer: The paper provides findings specific to agglutinative and polysynthetic languages, particularly Turkish and Inuktitut, respectively.   Evidence: The abstract indicates that the TP-Transformer outperforms the standard Transformer in translating Turkish and Inuktitut, with improvements in BLEU scores and mentions that \"morphological tokenization provides a substantial improvement in BLEU\" for both languages.',\n",
       " '1. Challenges of morphological complexity   Answer: Yes, the paper discusses challenges posed by the morphological complexity of the target language.   Evidence: The abstract mentions that \"Digaru and English exhibit significant morphological and syntactic differences,\" indicating that the morphological complexity of Digaru presents challenges in machine translation, particularly due to its status as a low-resource language with limited linguistic resources.  2. Proposed techniques   Answer: The paper evaluates both Phrase-Based Statistical Machine Translation (PBSMT) and Neural Machine Translation (NMT) techniques.   Evidence: The abstract states that the study includes a quality analysis employing baseline machine translation models, specifically PBSMT and NMT utilizing Recurrent Neural Network (RNN) architectures, to assess translation accuracy.  3. Morphology-aware techniques   Answer: The abstract does not explicitly mention any specific morphology-aware techniques such as subword modeling or morphological analyzers.   Evidence: While the paper discusses the challenges of translating between languages with different morphological structures, it does not detail any specific morphology-aware techniques or their effectiveness compared to other approaches.  4. Specific findings per morphological typology (e.g., polysynthetic, agglutinative, fusional)   Answer: The abstract does not provide findings or solutions specific to any particular morphological typology.   Evidence: The focus is primarily on the comparison between PBSMT and NMT for the Digaru language, without detailing outcomes related to specific morphological typologies.',\n",
       " '1. Challenges of morphological complexity   Answer: The abstract does not explicitly discuss the challenges posed by the morphological complexity of the target language(s).   Evidence: There is no mention of specific challenges related to isolating, fusional, agglutinative, or polysynthetic structures in a low-resource context.  2. Proposed techniques   Answer: The abstract does not specify any techniques proposed or evaluated to address the challenges of morphological complexity in low-resource machine translation.   Evidence: There is no reference to rule-based, statistical, or neural methods in the abstract.  3. Morphology-aware techniques   Answer: The abstract does not mention any morphology-aware techniques such as subword modeling, morphological analyzers, or morpheme segmentation.   Evidence: There is no discussion or comparison of such techniques to other approaches or baselines in the abstract.  4. Specific findings per morphological typology (e.g., polysynthetic, agglutinative, fusional)   Answer: The abstract does not provide findings, identify challenges, or propose solutions that are specific to any particular morphological typology.   Evidence: There are no reported outcomes for any typology mentioned in the abstract.  ---']"
      ]
     },
     "execution_count": 26,
     "metadata": {},
     "output_type": "execute_result"
    }
   ],
   "source": [
    "answer_outputs = df[\"generated_answers\"].tolist()\n",
    "answer_outputs[:5]"
   ]
  },
  {
   "cell_type": "code",
   "execution_count": 40,
   "metadata": {},
   "outputs": [
    {
     "data": {
      "text/html": [
       "<div>\n",
       "<style scoped>\n",
       "    .dataframe tbody tr th:only-of-type {\n",
       "        vertical-align: middle;\n",
       "    }\n",
       "\n",
       "    .dataframe tbody tr th {\n",
       "        vertical-align: top;\n",
       "    }\n",
       "\n",
       "    .dataframe thead th {\n",
       "        text-align: right;\n",
       "    }\n",
       "</style>\n",
       "<table border=\"1\" class=\"dataframe\">\n",
       "  <thead>\n",
       "    <tr style=\"text-align: right;\">\n",
       "      <th></th>\n",
       "      <th>title</th>\n",
       "      <th>generated_anwers</th>\n",
       "      <th>reasoning</th>\n",
       "      <th>rq1</th>\n",
       "      <th>rq2</th>\n",
       "      <th>rq3</th>\n",
       "      <th>rq4</th>\n",
       "    </tr>\n",
       "  </thead>\n",
       "  <tbody>\n",
       "    <tr>\n",
       "      <th>0</th>\n",
       "      <td>atlaslang mts 1- arabic text language into ara...</td>\n",
       "      <td>1. Challenges of morphological complexity   An...</td>\n",
       "      <td>The abstract reveals that the authors are awar...</td>\n",
       "      <td>Yes, the paper discusses challenges posed by t...</td>\n",
       "      <td>The paper proposes a combination of rule-based...</td>\n",
       "      <td>Yes, the paper utilizes morphology-aware techn...</td>\n",
       "      <td>The paper does not provide specific findings o...</td>\n",
       "    </tr>\n",
       "    <tr>\n",
       "      <th>1</th>\n",
       "      <td>utilizing lexical similarity between related, ...</td>\n",
       "      <td>1. Challenges of morphological complexity   An...</td>\n",
       "      <td>The abstract provides insights into the techni...</td>\n",
       "      <td>The paper does not explicitly discuss the chal...</td>\n",
       "      <td>The paper proposes using subword-level pivot-b...</td>\n",
       "      <td>Yes, the paper employs subword modeling techni...</td>\n",
       "      <td>The paper reports improvements in translation ...</td>\n",
       "    </tr>\n",
       "    <tr>\n",
       "      <th>2</th>\n",
       "      <td>structural biases for improving transformers o...</td>\n",
       "      <td>1. Challenges of morphological complexity   An...</td>\n",
       "      <td>The abstract reveals that the authors are addr...</td>\n",
       "      <td>Yes, the paper discusses challenges posed by m...</td>\n",
       "      <td>The paper proposes two techniques to address t...</td>\n",
       "      <td>Yes, the paper uses morphology-aware technique...</td>\n",
       "      <td>The paper provides findings specific to agglut...</td>\n",
       "    </tr>\n",
       "  </tbody>\n",
       "</table>\n",
       "</div>"
      ],
      "text/plain": [
       "                                               title  \\\n",
       "0  atlaslang mts 1- arabic text language into ara...   \n",
       "1  utilizing lexical similarity between related, ...   \n",
       "2  structural biases for improving transformers o...   \n",
       "\n",
       "                                    generated_anwers  \\\n",
       "0  1. Challenges of morphological complexity   An...   \n",
       "1  1. Challenges of morphological complexity   An...   \n",
       "2  1. Challenges of morphological complexity   An...   \n",
       "\n",
       "                                           reasoning  \\\n",
       "0  The abstract reveals that the authors are awar...   \n",
       "1  The abstract provides insights into the techni...   \n",
       "2  The abstract reveals that the authors are addr...   \n",
       "\n",
       "                                                 rq1  \\\n",
       "0  Yes, the paper discusses challenges posed by t...   \n",
       "1  The paper does not explicitly discuss the chal...   \n",
       "2  Yes, the paper discusses challenges posed by m...   \n",
       "\n",
       "                                                 rq2  \\\n",
       "0  The paper proposes a combination of rule-based...   \n",
       "1  The paper proposes using subword-level pivot-b...   \n",
       "2  The paper proposes two techniques to address t...   \n",
       "\n",
       "                                                 rq3  \\\n",
       "0  Yes, the paper utilizes morphology-aware techn...   \n",
       "1  Yes, the paper employs subword modeling techni...   \n",
       "2  Yes, the paper uses morphology-aware technique...   \n",
       "\n",
       "                                                 rq4  \n",
       "0  The paper does not provide specific findings o...  \n",
       "1  The paper reports improvements in translation ...  \n",
       "2  The paper provides findings specific to agglut...  "
      ]
     },
     "execution_count": 40,
     "metadata": {},
     "output_type": "execute_result"
    }
   ],
   "source": [
    "import re\n",
    "\n",
    "# regular expressions for extracting answers\n",
    "rq_patterns = {\n",
    "    \"rq1\": r\"1\\. Challenges of morphological complexity\\s+Answer: (.*?)\\s+Evidence:\",\n",
    "    \"rq2\": r\"2\\. Proposed techniques\\s+Answer: (.*?)\\s+Evidence:\",\n",
    "    \"rq3\": r\"3\\. Morphology-aware techniques\\s+Answer: (.*?)\\s+Evidence:\",\n",
    "    \"rq4\": r\"4\\. Specific findings per morphological typology.*?Answer: (.*?)\\s+Evidence:\",\n",
    "}\n",
    "\n",
    "\n",
    "# function to extract answers based on patterns\n",
    "def extract_answers(row, patterns):\n",
    "    answers = {}\n",
    "    for key, pattern in patterns.items():\n",
    "        match = re.search(pattern, row)\n",
    "        answers[key] = match.group(1) if match else None\n",
    "    return answers\n",
    "\n",
    "\n",
    "# apply the extraction function to each row\n",
    "answers_df = df[\"generated_anwers\"].apply(lambda x: extract_answers(x, rq_patterns))\n",
    "# convert the list of answers into separate columns\n",
    "answers_df = pd.DataFrame(answers_df.tolist(), index=df.index)\n",
    "# merge the extracted answers with the original dataframe\n",
    "df = df.drop(columns=[col for col in df.columns if col.startswith(\"rq\")])\n",
    "df = pd.concat([df, answers_df], axis=1)\n",
    "df.head(3)"
   ]
  },
  {
   "cell_type": "code",
   "execution_count": 43,
   "metadata": {},
   "outputs": [
    {
     "name": "stdout",
     "output_type": "stream",
     "text": [
      "Yes, the paper discusses challenges posed by the morphological complexity of the Arabic language.\n",
      "1. Challenges of morphological complexity   Answer: Yes, the paper discusses challenges posed by the morphological complexity of the Arabic language.   Evidence: The abstract mentions that \"Arabic is a Semitic language written from right to left. It is a derivational and flexional language, which is morphologically complex,\" indicating the inherent challenges in processing Arabic due to its morphological structure.  2. Proposed techniques   Answer: The paper proposes a combination of rule-based and example-based techniques to address the challenges of morphological complexity in machine translation.   Evidence: The abstract states that the system \"is based on rule-based Interlingua and example-based approaches,\" highlighting the methods employed to tackle the complexities of Arabic text translation into Arabic Sign Language.  3. Morphology-aware techniques   Answer: Yes, the paper utilizes morphology-aware techniques, specifically a morphological analyzer for processing Arabic text.   Evidence: The abstract mentions the use of the \"ALKHALIL morpho system\" to extract the morphological properties of each word, which is a key aspect of handling morphological complexity in the translation process.  4. Specific findings per morphological typology (e.g., polysynthetic, agglutinative, fusional)   Answer: The paper does not provide specific findings or outcomes related to different morphological typologies such as polysynthetic, agglutinative, or fusional languages.   Evidence: The abstract focuses primarily on the challenges and techniques related to the Arabic language without discussing outcomes for various morphological typologies.\n"
     ]
    }
   ],
   "source": [
    "# extract the answers into separate lists\n",
    "rq1_answers = df[\"rq1\"].tolist()\n",
    "rq2_answers = df[\"rq2\"].tolist()\n",
    "rq3_answers = df[\"rq3\"].tolist()\n",
    "rq4_answers = df[\"rq4\"].tolist()\n",
    "\n",
    "# print the first 5 answers for each research question\n",
    "print(rq1_answers[0])\n",
    "print(answer_outputs[0])"
   ]
  },
  {
   "cell_type": "code",
   "execution_count": 52,
   "metadata": {},
   "outputs": [
    {
     "data": {
      "text/plain": [
       "'Yes, the paper discusses challenges posed by the morphological complexity of the Arabic language., The paper does not explicitly discuss the challenges posed by the morphological complexity of the tar'"
      ]
     },
     "execution_count": 52,
     "metadata": {},
     "output_type": "execute_result"
    }
   ],
   "source": [
    "def combine_answers(answers: list) -> str:\n",
    "    combined = \", \".join(answers)\n",
    "    return combined\n",
    "\n",
    "\n",
    "# combine all answers into a single string\n",
    "rq1_answers_combined = combine_answers(rq1_answers)\n",
    "rq2_answers_combined = combine_answers(rq2_answers)\n",
    "rq3_answers_combined = combine_answers(rq3_answers)\n",
    "rq4_answers_combined = combine_answers(rq4_answers)\n",
    "# print the combined answers\n",
    "rq1_answers_combined[:200]"
   ]
  },
  {
   "cell_type": "code",
   "execution_count": 58,
   "metadata": {},
   "outputs": [
    {
     "name": "stdout",
     "output_type": "stream",
     "text": [
      "Response 1/4...\n",
      "Response 2/4...\n",
      "Response 3/4...\n",
      "Response 4/4...\n"
     ]
    }
   ],
   "source": [
    "def get_prompt(answer: str):\n",
    "    prompt = f\"\"\"\n",
    "    Based on the following analysis, identify five **thematic categories** that summarize the key concepts, methods, or contributions mentioned.\n",
    "\n",
    "    --- BEGIN ANALYSIS ---\n",
    "    {answer}\n",
    "    --- END ANALYSIS ---\n",
    "\n",
    "    The categories should reflect actual *topics or themes* found in the answers, such as techniques, challenges, or typologies discussed (e.g., \"Cross-lingual Transfer Learning\", \"Morphological Generation\", \"Polysynthetic Language Challenges\").\n",
    "\n",
    "    Only return the categories, comma-separated, in the following format:\n",
    "    OUTPUT: Category 1, Category 2, Category 3, Category 4, Category 5\n",
    "    \"\"\"\n",
    "    return prompt\n",
    "\n",
    "\n",
    "def extract_output(result: str) -> tuple:\n",
    "    # Use re.DOTALL to make '.' match newline characters\n",
    "    match = re.search(r\"OUTPUT:\\s*(.*)\", result, re.DOTALL)\n",
    "    if match:\n",
    "        output_text = match.group(1).replace(\"\\n\", \" \").strip().strip(\"*\")\n",
    "        return output_text\n",
    "    else:\n",
    "        return result\n",
    "\n",
    "\n",
    "responses = {}\n",
    "combined_answers = [\n",
    "    rq1_answers_combined,\n",
    "    rq2_answers_combined,\n",
    "    rq3_answers_combined,\n",
    "    rq4_answers_combined,\n",
    "]\n",
    "# loop through each answer and query ChatGPT\n",
    "for i, answer in enumerate(combined_answers):\n",
    "    prompt = get_prompt(answer)\n",
    "    # query ChatGPT\n",
    "    response = prompt_gpt(model, prompt, max_tokens=500)\n",
    "    response = extract_output(response)\n",
    "    responses[f\"rq{i+1}_categories\"] = response\n",
    "    print(f\"Response {i+1}/{len(combined_answers)}...\")"
   ]
  },
  {
   "cell_type": "code",
   "execution_count": 59,
   "metadata": {},
   "outputs": [
    {
     "name": "stdout",
     "output_type": "stream",
     "text": [
      "rq1_categories: Morphological Complexity Challenges, Low-Resource Language Issues, Agglutinative Language Characteristics, Neural Machine Translation (NMT) Challenges, Language-Specific Translation Difficulties\n",
      "rq2_categories: Morphological Complexity in Machine Translation, Techniques for Low-Resource Contexts, Subword Segmentation Methods, Evaluation of Machine Translation Approaches, Rule-Based and Example-Based Techniques\n",
      "rq3_categories: Morphology-aware Techniques, Subword Modeling, Morphological Analysis, Comparative Effectiveness, Pre-annotation Techniques\n",
      "rq4_categories: Agglutinative Language Challenges, Polysynthetic Language Findings, Morphological Complexity in Translation, Translation Performance Improvements, Language-Specific Morphological Issues\n"
     ]
    }
   ],
   "source": [
    "for key, value in responses.items():\n",
    "    print(f\"{key}: {value}\")"
   ]
  },
  {
   "cell_type": "code",
   "execution_count": null,
   "metadata": {},
   "outputs": [],
   "source": []
  }
 ],
 "metadata": {
  "kernelspec": {
   "display_name": "venv",
   "language": "python",
   "name": "python3"
  },
  "language_info": {
   "codemirror_mode": {
    "name": "ipython",
    "version": 3
   },
   "file_extension": ".py",
   "mimetype": "text/x-python",
   "name": "python",
   "nbconvert_exporter": "python",
   "pygments_lexer": "ipython3",
   "version": "3.11.6"
  }
 },
 "nbformat": 4,
 "nbformat_minor": 2
}
