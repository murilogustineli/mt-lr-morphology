{
 "cells": [
  {
   "cell_type": "markdown",
   "metadata": {},
   "source": [
    "# Categorization of abstracts"
   ]
  },
  {
   "cell_type": "code",
   "execution_count": 1,
   "metadata": {},
   "outputs": [],
   "source": [
    "import os\n",
    "from dotenv import load_dotenv\n",
    "from openai import OpenAI\n",
    "\n",
    "%load_ext autoreload\n",
    "%autoreload 2"
   ]
  },
  {
   "cell_type": "code",
   "execution_count": null,
   "metadata": {},
   "outputs": [],
   "source": [
    "# load environment variables\n",
    "load_dotenv()\n",
    "\n",
    "# get API key\n",
    "api_key = os.getenv(\"OPENAI_API_KEY\")\n",
    "\n",
    "# init OpenAI client\n",
    "client = OpenAI(api_key=api_key)\n",
    "\n",
    "\n",
    "def prompt_gpt(\n",
    "    model,\n",
    "    prompt: str,\n",
    "    temperature: float = 0.0,\n",
    "    max_tokens: int = 200,\n",
    "):\n",
    "    # query ChatGPT\n",
    "    chat_completion = client.chat.completions.create(\n",
    "        model=model,\n",
    "        messages=[\n",
    "            {\n",
    "                \"role\": \"system\",\n",
    "                \"content\": \"You are a helpful assistant designed to carefully analyze academic abstracts based on specific inclusion and exclusion criteria.\",\n",
    "            },\n",
    "            {\n",
    "                \"role\": \"user\",\n",
    "                \"content\": prompt,\n",
    "            },\n",
    "        ],\n",
    "        temperature=temperature,\n",
    "        max_tokens=max_tokens,\n",
    "    )\n",
    "    return chat_completion.choices[0].message.content"
   ]
  },
  {
   "cell_type": "code",
   "execution_count": 3,
   "metadata": {},
   "outputs": [
    {
     "name": "stdout",
     "output_type": "stream",
     "text": [
      "This is a test.\n"
     ]
    }
   ],
   "source": [
    "model = \"gpt-4o-mini\"\n",
    "prompt = \"Say this is a test and nothing else.\"\n",
    "response = prompt_gpt(model, prompt)\n",
    "print(response)"
   ]
  },
  {
   "cell_type": "code",
   "execution_count": null,
   "metadata": {},
   "outputs": [
    {
     "data": {
      "text/html": [
       "<div>\n",
       "<style scoped>\n",
       "    .dataframe tbody tr th:only-of-type {\n",
       "        vertical-align: middle;\n",
       "    }\n",
       "\n",
       "    .dataframe tbody tr th {\n",
       "        vertical-align: top;\n",
       "    }\n",
       "\n",
       "    .dataframe thead th {\n",
       "        text-align: right;\n",
       "    }\n",
       "</style>\n",
       "<table border=\"1\" class=\"dataframe\">\n",
       "  <thead>\n",
       "    <tr style=\"text-align: right;\">\n",
       "      <th></th>\n",
       "      <th>abstract</th>\n",
       "      <th>output</th>\n",
       "      <th>reasoning</th>\n",
       "    </tr>\n",
       "  </thead>\n",
       "  <tbody>\n",
       "    <tr>\n",
       "      <th>0</th>\n",
       "      <td>\"low resource languages\" usually refers to lan...</td>\n",
       "      <td>1. Challenges of morphological complexity    A...</td>\n",
       "      <td>The abstract provides insights into a transfer...</td>\n",
       "    </tr>\n",
       "    <tr>\n",
       "      <th>1</th>\n",
       "      <td>byte pair encoding (bpe) (sennrich et al., 201...</td>\n",
       "      <td>1. Challenges of morphological complexity    A...</td>\n",
       "      <td>The abstract provides insights into the compar...</td>\n",
       "    </tr>\n",
       "    <tr>\n",
       "      <th>2</th>\n",
       "      <td>the fast growth of communication technology ha...</td>\n",
       "      <td>1. Challenges of morphological complexity    A...</td>\n",
       "      <td>The abstract provides insights into the challe...</td>\n",
       "    </tr>\n",
       "    <tr>\n",
       "      <th>3</th>\n",
       "      <td>besides word order, word choice is a key stumb...</td>\n",
       "      <td>1. Challenges of morphological complexity    A...</td>\n",
       "      <td>The abstract primarily addresses challenges in...</td>\n",
       "    </tr>\n",
       "    <tr>\n",
       "      <th>4</th>\n",
       "      <td>it has been shown that the performance of neur...</td>\n",
       "      <td>1. Challenges of morphological complexity    A...</td>\n",
       "      <td>The abstract primarily addresses the challenge...</td>\n",
       "    </tr>\n",
       "  </tbody>\n",
       "</table>\n",
       "</div>"
      ],
      "text/plain": [
       "                                            abstract  ...                                          reasoning\n",
       "0  \"low resource languages\" usually refers to lan...  ...  The abstract provides insights into a transfer...\n",
       "1  byte pair encoding (bpe) (sennrich et al., 201...  ...  The abstract provides insights into the compar...\n",
       "2  the fast growth of communication technology ha...  ...  The abstract provides insights into the challe...\n",
       "3  besides word order, word choice is a key stumb...  ...  The abstract primarily addresses challenges in...\n",
       "4  it has been shown that the performance of neur...  ...  The abstract primarily addresses the challenge...\n",
       "\n",
       "[5 rows x 3 columns]"
      ]
     },
     "execution_count": 8,
     "metadata": {},
     "output_type": "execute_result"
    }
   ],
   "source": [
    "from gpt.config import get_dataframe\n",
    "\n",
    "\n",
    "file_name = \"output_results_gpt-4o.csv\"\n",
    "df = get_dataframe(file_name, read_csv=True)\n",
    "df.head(5)"
   ]
  },
  {
   "cell_type": "code",
   "execution_count": 9,
   "metadata": {},
   "outputs": [
    {
     "data": {
      "text/plain": [
       "['1. Challenges of morphological complexity    Answer: The abstract does not explicitly discuss the challenges posed by varying degrees of morphological complexity (e.g., isolating, fusional, agglutinative, and polysynthetic languages) to machine translation systems in a low-resource language context.    Evidence: The abstract focuses on the morphological complexity of the Omotic languages Gofa and Wolaytta but does not detail specific challenges related to different morphological typologies.  2. Proposed techniques    Answer: The abstract proposes a transfer-based approach using a neural morphological generator and a finite state transducer (FST) for learning the morphology of a severely under-resourced language by leveraging a related language with more resources.    Evidence: The abstract describes creating an FST for Wolaytta and training an encoder-decoder neural network for morphological generation, which is then adapted for Gofa using bilingual data.  3. Morphology-aware techniques    Answer: The abstract mentions the use of a finite state transducer (FST) and an encoder-decoder neural network as morphology-aware techniques for morphological analysis and generation.    Evidence: The abstract details the creation of an FST for Wolaytta and the training of a neural network for morphological generation, which are both morphology-aware techniques.  4. Specific findings per morphological typology (e.g., polysynthetic, agglutinative, fusional)    Answer: The abstract does not provide specific findings, challenges, or solutions for machine translation of languages in each different morphological typology (polysynthetic, agglutinative, fusional).    Evidence: The abstract focuses on the Omotic languages Gofa and Wolaytta, which are described as morphologically complex, but it does not categorize them into specific morphological typologies or provide findings for other typologies.',\n",
       " '1. Challenges of morphological complexity    Answer: The abstract does not explicitly discuss the challenges posed by varying degrees of morphological complexity to machine translation systems in a low-resource language context.    Evidence: The abstract focuses on comparing subword segmentation strategies for two specific languages (Swahili and Turkish) without detailing the challenges related to morphological complexity.  2. Proposed techniques    Answer: The abstract mentions the use of byte pair encoding (BPE) and segmentations based on a unigram language model as techniques for subword segmentation in machine translation.    Evidence: The abstract states, \"byte pair encoding (bpe) (sennrich et al., 2016) has become a standard pre processing step\" and \"segmentations based on a unigram language model (kudo, 2018)\" as techniques used in their study.  3. Morphology-aware techniques    Answer: The abstract compares subword segmentation strategies, specifically BPE and unigram language model-based segmentations, for their effectiveness in translating low-resource languages.    Evidence: The abstract indicates that \"segmentations based on a unigram language model (kudo, 2018) yield comparable bleu and better recall for translating rare source words than bpe,\" suggesting a comparison of effectiveness between these techniques.  4. Specific findings per morphological typology (e.g., polysynthetic, agglutinative, fusional)    Answer: The abstract does not provide specific findings, challenges, or solutions for machine translation of languages in each different morphological typology.    Evidence: The abstract only mentions Swahili and Turkish, which are morphologically rich languages, but does not categorize them into specific typologies like polysynthetic, agglutinative, or fusional, nor does it provide detailed findings for each.',\n",
       " '1. Challenges of morphological complexity    Answer: The abstract highlights that unsupervised machine translation is problematic for morphologically rich and low-resource languages, particularly when translating from morphologically less complex languages to more complex ones.    Evidence: The abstract states, \"The unsupervised machine translation is always problematic to those languages which are morphologically rich and low resources languages... does not provide good results in machine translation if the translation is from morphologically less complex language to morphologically more complex languages.\"  2. Proposed techniques    Answer: The abstract proposes improving unsupervised neural machine translation by addressing the ambiguity problem using cross-lingual sense embedding and enhancing the quality of pseudo parallel sentence pairs through weighted back translation.    Evidence: The abstract mentions, \"The ambiguity problem is solved by taking the cross lingual sense embedding at the source side instead of cross lingual word embedding. By giving more weight to better pseudo parallel sentence pairs in the back translation step, the quality of pseudo parallel sentences is increased.\"  3. Morphology-aware techniques    Answer: The abstract does not explicitly mention morphology-aware techniques such as subword modeling or morphological analyzers.    Evidence: There is no specific mention of subword modeling, morphological analyzers, or similar techniques in the abstract.  4. Specific findings per morphological typology (e.g., polysynthetic, agglutinative, fusional)    Answer: The abstract does not provide specific findings, challenges, or solutions for machine translation of languages in different morphological typologies such as polysynthetic, agglutinative, or fusional.    Evidence: The abstract discusses challenges and solutions in general terms for morphologically rich languages but does not categorize them into specific morphological typologies.']"
      ]
     },
     "execution_count": 9,
     "metadata": {},
     "output_type": "execute_result"
    }
   ],
   "source": [
    "abstract_outputs = df[\"output\"].tolist()\n",
    "abstract_outputs[:3]"
   ]
  },
  {
   "cell_type": "code",
   "execution_count": 21,
   "metadata": {},
   "outputs": [
    {
     "name": "stdout",
     "output_type": "stream",
     "text": [
      "Response 1/184...\n",
      "Response 2/184...\n",
      "Response 3/184...\n",
      "Response 4/184...\n",
      "Response 5/184...\n"
     ]
    }
   ],
   "source": [
    "def get_prompt(abstract: str):\n",
    "    prompt = f\"\"\"\n",
    "    Based on the following analysis, identify five **thematic categories** that summarize the key concepts, methods, or contributions mentioned.\n",
    "\n",
    "    --- BEGIN ANALYSIS ---\n",
    "    {abstract}\n",
    "    --- END ANALYSIS ---\n",
    "\n",
    "    The categories should reflect actual *topics or themes* found in the answers, such as techniques, challenges, or typologies discussed (e.g., \"Cross-lingual Transfer Learning\", \"Morphological Generation\", \"Polysynthetic Language Challenges\").\n",
    "\n",
    "    Do NOT reuse the question labels like \"Challenges of morphological complexity\" as categories.\n",
    "\n",
    "    Only return the categories, comma-separated, in the following format:\n",
    "    OUTPUT: Category 1, Category 2, Category 3, Category 4, Category 5\n",
    "    \"\"\"\n",
    "    return prompt\n",
    "\n",
    "\n",
    "responses = []\n",
    "for i, abstract in enumerate(abstract_outputs[:5]):\n",
    "    prompt = get_prompt(abstract)\n",
    "    # query ChatGPT\n",
    "    response = prompt_gpt(model, prompt, max_tokens=500)\n",
    "    responses.append(response)\n",
    "    print(f\"Response {i+1}/{len(abstract_outputs)}...\")"
   ]
  },
  {
   "cell_type": "code",
   "execution_count": 22,
   "metadata": {},
   "outputs": [
    {
     "data": {
      "text/plain": [
       "['OUTPUT: Morphological Complexity in Low-Resource Languages, Transfer-Based Approaches, Morphology-Aware Techniques, Neural Network Applications in Morphological Generation, Limitations in Morphological Typology Analysis',\n",
       " 'OUTPUT: Subword Segmentation Techniques, Machine Translation in Low-Resource Languages, Effectiveness of Morphology-Aware Approaches, Comparison of Language Models, Morphological Typology in Translation',\n",
       " 'OUTPUT: Morphological Complexity in Machine Translation, Techniques for Unsupervised Neural Machine Translation, Addressing Ambiguity in Translation, Quality Enhancement of Pseudo Parallel Sentences, General Challenges in Morphologically Rich Languages',\n",
       " 'OUTPUT: Morphological Complexity in Machine Translation, Unsupervised Word Sense Disambiguation Techniques, Translation Quality Improvement Strategies, Lack of Morphological Typology Analysis, Challenges in Translating Morphologically Rich Languages',\n",
       " 'OUTPUT: Neural Machine Translation Architecture, Bilingual Similarity Lexicon, Low-Resource Language Translation, Linguistic Similarity, Encoder-Decoder Framework']"
      ]
     },
     "execution_count": 22,
     "metadata": {},
     "output_type": "execute_result"
    }
   ],
   "source": [
    "responses"
   ]
  },
  {
   "cell_type": "code",
   "execution_count": 28,
   "metadata": {},
   "outputs": [],
   "source": [
    "import re\n",
    "\n",
    "\n",
    "def extract_output(result: str) -> tuple:\n",
    "    # Use re.DOTALL to make '.' match newline characters\n",
    "    match = re.search(r\"OUTPUT:\\s*(.*)\", result, re.DOTALL)\n",
    "    if match:\n",
    "        output_text = match.group(1).replace(\"\\n\", \" \").strip().strip(\"*\")\n",
    "        return output_text\n",
    "    else:\n",
    "        return None"
   ]
  },
  {
   "cell_type": "code",
   "execution_count": 35,
   "metadata": {},
   "outputs": [
    {
     "data": {
      "text/plain": [
       "'Morphological Complexity in Low-Resource Languages, Transfer-Based Approaches, Morphology-Aware Techniques, Neural Network Applications in Morphological Generation, Limitations in Morphological Typology Analysis, Subword Segmentation Techniques, Machine Translation in Low-Resource Languages, Effectiveness of Morphology-Aware Approaches, Comparison of Language Models, Morphological Typology in Translation, Morphological Complexity in Machine Translation, Techniques for Unsupervised Neural Machine Translation, Addressing Ambiguity in Translation, Quality Enhancement of Pseudo Parallel Sentences, General Challenges in Morphologically Rich Languages, Morphological Complexity in Machine Translation, Unsupervised Word Sense Disambiguation Techniques, Translation Quality Improvement Strategies, Lack of Morphological Typology Analysis, Challenges in Translating Morphologically Rich Languages, Neural Machine Translation Architecture, Bilingual Similarity Lexicon, Low-Resource Language Translation, Linguistic Similarity, Encoder-Decoder Framework, '"
      ]
     },
     "execution_count": 35,
     "metadata": {},
     "output_type": "execute_result"
    }
   ],
   "source": [
    "outputs = \"\"\n",
    "for response in responses:\n",
    "    output = extract_output(response)\n",
    "    outputs += output + \", \"\n",
    "outputs"
   ]
  },
  {
   "cell_type": "code",
   "execution_count": 36,
   "metadata": {},
   "outputs": [
    {
     "name": "stdout",
     "output_type": "stream",
     "text": [
      "Based on the analysis provided, here are five thematic categories that summarize the key concepts, methods, or contributions mentioned:\n",
      "\n",
      "1. **Morphological Complexity and Typology**: This category encompasses the challenges and characteristics of morphological complexity in low-resource languages, including the limitations and analysis of morphological typology in translation.\n",
      "\n",
      "2. **Neural Network and Machine Translation Techniques**: This includes the application of neural network architectures, such as encoder-decoder frameworks, and the development of techniques for unsupervised neural machine translation, particularly in the context of low-resource languages.\n",
      "\n",
      "3. **Morphology-Aware Approaches**: This theme focuses on the effectiveness of morphology-aware techniques and their role in enhancing translation quality, addressing ambiguity, and improving the handling of morphologically rich languages.\n",
      "\n",
      "4. **Subword Segmentation and Linguistic Similarity**: This category highlights the importance of subword segmentation techniques and the use of bilingual similarity lexicons in improving translation outcomes and addressing challenges in low-resource language translation.\n",
      "\n",
      "5. **Quality Enhancement Strategies in Translation**: This includes various strategies aimed at improving translation quality, such as the enhancement of pseudo-parallel sentences and the comparison of language models to address general challenges in translating morphologically rich languages.\n"
     ]
    }
   ],
   "source": [
    "prompt = f\"\"\"\n",
    "    Based on the following analysis, identify FIVE **thematic categories** that summarize the key concepts, methods, or contributions mentioned.\n",
    "    --- BEGIN ANALYSIS ---\n",
    "    {outputs}\n",
    "\"\"\"\n",
    "response = prompt_gpt(model, prompt, max_tokens=500)\n",
    "print(response)"
   ]
  },
  {
   "cell_type": "code",
   "execution_count": null,
   "metadata": {},
   "outputs": [],
   "source": []
  }
 ],
 "metadata": {
  "kernelspec": {
   "display_name": "venv",
   "language": "python",
   "name": "python3"
  },
  "language_info": {
   "codemirror_mode": {
    "name": "ipython",
    "version": 3
   },
   "file_extension": ".py",
   "mimetype": "text/x-python",
   "name": "python",
   "nbconvert_exporter": "python",
   "pygments_lexer": "ipython3",
   "version": "3.11.6"
  }
 },
 "nbformat": 4,
 "nbformat_minor": 2
}
