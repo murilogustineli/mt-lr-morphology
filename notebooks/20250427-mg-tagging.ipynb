{
 "cells": [
  {
   "cell_type": "markdown",
   "id": "2a990c60",
   "metadata": {},
   "source": [
    "# Tagging paper categories"
   ]
  },
  {
   "cell_type": "code",
   "execution_count": 1,
   "id": "ec417d98",
   "metadata": {},
   "outputs": [],
   "source": [
    "import os\n",
    "from dotenv import load_dotenv\n",
    "from openai import OpenAI\n",
    "\n",
    "%load_ext autoreload\n",
    "%autoreload 2"
   ]
  },
  {
   "cell_type": "code",
   "execution_count": 4,
   "id": "e2fdcf34",
   "metadata": {},
   "outputs": [],
   "source": [
    "# load environment variables\n",
    "load_dotenv()\n",
    "\n",
    "# get API key\n",
    "api_key = os.getenv(\"OPENAI_API_KEY\")\n",
    "\n",
    "# init OpenAI client\n",
    "client = OpenAI(api_key=api_key)\n",
    "\n",
    "\n",
    "def prompt_gpt(\n",
    "    model,\n",
    "    prompt: str,\n",
    "    temperature: float = 0.0,\n",
    "    max_tokens: int = 200,\n",
    "):\n",
    "    # query ChatGPT\n",
    "    chat_completion = client.chat.completions.create(\n",
    "        model=model,\n",
    "        messages=[\n",
    "            {\n",
    "                \"role\": \"system\",\n",
    "                \"content\": \"You are a helpful assistant designed to carefully analyze academic papers based on specific instructions.\",\n",
    "            },\n",
    "            {\n",
    "                \"role\": \"user\",\n",
    "                \"content\": prompt,\n",
    "            },\n",
    "        ],\n",
    "        temperature=temperature,\n",
    "        max_tokens=max_tokens,\n",
    "    )\n",
    "    return chat_completion.choices[0].message.content"
   ]
  },
  {
   "cell_type": "code",
   "execution_count": 6,
   "id": "3cad0284",
   "metadata": {},
   "outputs": [
    {
     "name": "stdout",
     "output_type": "stream",
     "text": [
      "This is a test.\n"
     ]
    }
   ],
   "source": [
    "model = \"gpt-4o-mini\"\n",
    "prompt = \"Say 'this is a test' and nothing else.\"\n",
    "response = prompt_gpt(model, prompt)\n",
    "print(response)"
   ]
  },
  {
   "cell_type": "code",
   "execution_count": 23,
   "id": "8410a574",
   "metadata": {},
   "outputs": [
    {
     "data": {
      "text/html": [
       "<div>\n",
       "<style scoped>\n",
       "    .dataframe tbody tr th:only-of-type {\n",
       "        vertical-align: middle;\n",
       "    }\n",
       "\n",
       "    .dataframe tbody tr th {\n",
       "        vertical-align: top;\n",
       "    }\n",
       "\n",
       "    .dataframe thead th {\n",
       "        text-align: right;\n",
       "    }\n",
       "</style>\n",
       "<table border=\"1\" class=\"dataframe\">\n",
       "  <thead>\n",
       "    <tr style=\"text-align: right;\">\n",
       "      <th></th>\n",
       "      <th>title</th>\n",
       "      <th>text</th>\n",
       "      <th>morphology</th>\n",
       "      <th>methodology</th>\n",
       "    </tr>\n",
       "  </thead>\n",
       "  <tbody>\n",
       "    <tr>\n",
       "      <th>0</th>\n",
       "      <td>a comparative study of english to kannada base...</td>\n",
       "      <td>International Journal of Applied Engineering R...</td>\n",
       "      <td>agglutinat</td>\n",
       "      <td>data augmentation</td>\n",
       "    </tr>\n",
       "    <tr>\n",
       "      <th>1</th>\n",
       "      <td>a comparison of transformer, recurrent neural ...</td>\n",
       "      <td>2020 20th International Conference on Advances...</td>\n",
       "      <td>agglutinat</td>\n",
       "      <td>morphological analyzer, segmentation</td>\n",
       "    </tr>\n",
       "    <tr>\n",
       "      <th>2</th>\n",
       "      <td>a morpheme-based weighting for chinese-mongoli...</td>\n",
       "      <td>IEICE TRANS. INF. &amp; SYST., VOL.E99–D, NO.11 NO...</td>\n",
       "      <td>NaN</td>\n",
       "      <td>segmentation</td>\n",
       "    </tr>\n",
       "    <tr>\n",
       "      <th>3</th>\n",
       "      <td>a morphological analyser for maltese</td>\n",
       "      <td>ScienceDirect\\nAvailable online at www.science...</td>\n",
       "      <td>fusional</td>\n",
       "      <td>morphological analyzer</td>\n",
       "    </tr>\n",
       "    <tr>\n",
       "      <th>4</th>\n",
       "      <td>a multi-agent solution for managing complexity...</td>\n",
       "      <td>B. Hettige et al., Int. J. of Design &amp; Nature ...</td>\n",
       "      <td>NaN</td>\n",
       "      <td>morphological analyzer</td>\n",
       "    </tr>\n",
       "  </tbody>\n",
       "</table>\n",
       "</div>"
      ],
      "text/plain": [
       "                                               title  \\\n",
       "0  a comparative study of english to kannada base...   \n",
       "1  a comparison of transformer, recurrent neural ...   \n",
       "2  a morpheme-based weighting for chinese-mongoli...   \n",
       "3               a morphological analyser for maltese   \n",
       "4  a multi-agent solution for managing complexity...   \n",
       "\n",
       "                                                text  morphology  \\\n",
       "0  International Journal of Applied Engineering R...  agglutinat   \n",
       "1  2020 20th International Conference on Advances...  agglutinat   \n",
       "2  IEICE TRANS. INF. & SYST., VOL.E99–D, NO.11 NO...         NaN   \n",
       "3  ScienceDirect\\nAvailable online at www.science...    fusional   \n",
       "4  B. Hettige et al., Int. J. of Design & Nature ...         NaN   \n",
       "\n",
       "                            methodology  \n",
       "0                     data augmentation  \n",
       "1  morphological analyzer, segmentation  \n",
       "2                          segmentation  \n",
       "3                morphological analyzer  \n",
       "4                morphological analyzer  "
      ]
     },
     "metadata": {},
     "output_type": "display_data"
    },
    {
     "data": {
      "text/plain": [
       "title          177\n",
       "text           177\n",
       "morphology     125\n",
       "methodology    150\n",
       "dtype: int64"
      ]
     },
     "metadata": {},
     "output_type": "display_data"
    }
   ],
   "source": [
    "import pandas as pd\n",
    "\n",
    "data_path = \"../data/full-text.csv\"\n",
    "full_df = pd.read_csv(data_path)\n",
    "# remove .pdf from the title\n",
    "full_df[\"title\"] = full_df[\"title\"].str.replace(\".pdf\", \"\", regex=False)\n",
    "display(full_df.head())\n",
    "display(full_df.count())"
   ]
  },
  {
   "cell_type": "code",
   "execution_count": 24,
   "id": "54d26caa",
   "metadata": {},
   "outputs": [
    {
     "data": {
      "text/html": [
       "<div>\n",
       "<style scoped>\n",
       "    .dataframe tbody tr th:only-of-type {\n",
       "        vertical-align: middle;\n",
       "    }\n",
       "\n",
       "    .dataframe tbody tr th {\n",
       "        vertical-align: top;\n",
       "    }\n",
       "\n",
       "    .dataframe thead th {\n",
       "        text-align: right;\n",
       "    }\n",
       "</style>\n",
       "<table border=\"1\" class=\"dataframe\">\n",
       "  <thead>\n",
       "    <tr style=\"text-align: right;\">\n",
       "      <th></th>\n",
       "      <th>title</th>\n",
       "    </tr>\n",
       "  </thead>\n",
       "  <tbody>\n",
       "    <tr>\n",
       "      <th>0</th>\n",
       "      <td>a morphological analyser for maltese</td>\n",
       "    </tr>\n",
       "    <tr>\n",
       "      <th>1</th>\n",
       "      <td>a novel morphological analysis based approach ...</td>\n",
       "    </tr>\n",
       "    <tr>\n",
       "      <th>2</th>\n",
       "      <td>a systematic analysis of subwords and cross-li...</td>\n",
       "    </tr>\n",
       "    <tr>\n",
       "      <th>3</th>\n",
       "      <td>an evaluation of subword segmentation strategi...</td>\n",
       "    </tr>\n",
       "    <tr>\n",
       "      <th>4</th>\n",
       "      <td>analysis of subword tokenization for transform...</td>\n",
       "    </tr>\n",
       "  </tbody>\n",
       "</table>\n",
       "</div>"
      ],
      "text/plain": [
       "                                               title\n",
       "0               a morphological analyser for maltese\n",
       "1  a novel morphological analysis based approach ...\n",
       "2  a systematic analysis of subwords and cross-li...\n",
       "3  an evaluation of subword segmentation strategi...\n",
       "4  analysis of subword tokenization for transform..."
      ]
     },
     "metadata": {},
     "output_type": "display_data"
    },
    {
     "data": {
      "text/plain": [
       "title    47\n",
       "dtype: int64"
      ]
     },
     "metadata": {},
     "output_type": "display_data"
    }
   ],
   "source": [
    "murilo_df = pd.read_csv(\"../data/murilo_titles.csv\")\n",
    "display(murilo_df.head())\n",
    "display(murilo_df.count())"
   ]
  },
  {
   "cell_type": "code",
   "execution_count": 25,
   "id": "024840ac",
   "metadata": {},
   "outputs": [
    {
     "data": {
      "text/html": [
       "<div>\n",
       "<style scoped>\n",
       "    .dataframe tbody tr th:only-of-type {\n",
       "        vertical-align: middle;\n",
       "    }\n",
       "\n",
       "    .dataframe tbody tr th {\n",
       "        vertical-align: top;\n",
       "    }\n",
       "\n",
       "    .dataframe thead th {\n",
       "        text-align: right;\n",
       "    }\n",
       "</style>\n",
       "<table border=\"1\" class=\"dataframe\">\n",
       "  <thead>\n",
       "    <tr style=\"text-align: right;\">\n",
       "      <th></th>\n",
       "      <th>title</th>\n",
       "      <th>text</th>\n",
       "      <th>morphology</th>\n",
       "      <th>methodology</th>\n",
       "    </tr>\n",
       "  </thead>\n",
       "  <tbody>\n",
       "    <tr>\n",
       "      <th>3</th>\n",
       "      <td>a morphological analyser for maltese</td>\n",
       "      <td>ScienceDirect\\nAvailable online at www.science...</td>\n",
       "      <td>fusional</td>\n",
       "      <td>morphological analyzer</td>\n",
       "    </tr>\n",
       "    <tr>\n",
       "      <th>7</th>\n",
       "      <td>a novel morphological analysis based approach ...</td>\n",
       "      <td>(IJACSA) International Journal of Advanced Com...</td>\n",
       "      <td>NaN</td>\n",
       "      <td>NaN</td>\n",
       "    </tr>\n",
       "    <tr>\n",
       "      <th>10</th>\n",
       "      <td>a systematic analysis of subwords and cross-li...</td>\n",
       "      <td>Findings of the Association for Computational ...</td>\n",
       "      <td>analytic, agglutinat</td>\n",
       "      <td>subword modeling, segmentation</td>\n",
       "    </tr>\n",
       "    <tr>\n",
       "      <th>17</th>\n",
       "      <td>analysis of subword tokenization for transform...</td>\n",
       "      <td>\\n979-8-3503-5362-4/24/$31.00 ©2024 IEEE  Ana...</td>\n",
       "      <td>agglutinat</td>\n",
       "      <td>subword modeling, segmentation</td>\n",
       "    </tr>\n",
       "    <tr>\n",
       "      <th>27</th>\n",
       "      <td>chinese-uyghur bilingual lexicon induction bas...</td>\n",
       "      <td>Chinese-Uyghur Bilingual Lexicon Induction Ba...</td>\n",
       "      <td>NaN</td>\n",
       "      <td>morphological analyzer, segmentation, data aug...</td>\n",
       "    </tr>\n",
       "  </tbody>\n",
       "</table>\n",
       "</div>"
      ],
      "text/plain": [
       "                                                title  \\\n",
       "3                a morphological analyser for maltese   \n",
       "7   a novel morphological analysis based approach ...   \n",
       "10  a systematic analysis of subwords and cross-li...   \n",
       "17  analysis of subword tokenization for transform...   \n",
       "27  chinese-uyghur bilingual lexicon induction bas...   \n",
       "\n",
       "                                                 text            morphology  \\\n",
       "3   ScienceDirect\\nAvailable online at www.science...              fusional   \n",
       "7   (IJACSA) International Journal of Advanced Com...                   NaN   \n",
       "10  Findings of the Association for Computational ...  analytic, agglutinat   \n",
       "17   \\n979-8-3503-5362-4/24/$31.00 ©2024 IEEE  Ana...            agglutinat   \n",
       "27   Chinese-Uyghur Bilingual Lexicon Induction Ba...                   NaN   \n",
       "\n",
       "                                          methodology  \n",
       "3                              morphological analyzer  \n",
       "7                                                 NaN  \n",
       "10                     subword modeling, segmentation  \n",
       "17                     subword modeling, segmentation  \n",
       "27  morphological analyzer, segmentation, data aug...  "
      ]
     },
     "metadata": {},
     "output_type": "display_data"
    },
    {
     "data": {
      "text/plain": [
       "title          40\n",
       "text           40\n",
       "morphology     32\n",
       "methodology    35\n",
       "dtype: int64"
      ]
     },
     "metadata": {},
     "output_type": "display_data"
    }
   ],
   "source": [
    "# filter the dataframe to only include the titles in murilo_titles\n",
    "filtered_df = full_df[full_df[\"title\"].isin(murilo_df[\"title\"])]\n",
    "display(filtered_df.head())\n",
    "display(filtered_df.count())"
   ]
  },
  {
   "cell_type": "code",
   "execution_count": null,
   "id": "6b90792b",
   "metadata": {},
   "outputs": [],
   "source": [
    "# RQs\n",
    "research_questions = \"\"\"\n",
    "    1. What challenges do varying degrees of morphological complexity (e.g., isolating, fusional, agglutinative, and polysynthetic languages) pose to machine translation systems in a low-resource language context?\n",
    "    2. What techniques (e.g., rule-based methods, statistical models, or neural architectures) have been proposed to address these challenges?\n",
    "    3. How do morphology-aware techniques (e.g. subword modeling, morphological analyzers) compare in effectiveness for low-resource machine translation?\n",
    "    4. What are the specific findings, challenges, and proposed solutions and results for machine translation of languages in each different morphological typology (polysynthetic, agglutinative, fusional)?\n",
    "\"\"\""
   ]
  },
  {
   "cell_type": "code",
   "execution_count": null,
   "id": "fc8646b6",
   "metadata": {},
   "outputs": [],
   "source": [
    "# get the first paper\n",
    "text = filtered_df[\"text\"].iloc[0]\n",
    "\n",
    "prompt = f\"\"\"\n",
    "Based on the following paper, answer the following research questions with as much detail as possible and using highly technical language.\n",
    "\n",
    "RESEARCH QUESTIONS:\n",
    "{research_questions}\n",
    "\n",
    "PAPER:\n",
    "{text}\n",
    "\n",
    "Only return the answers to each research question in the following format:\n",
    "RESEARCH QUESTIONS ANSWERS:\n",
    "1. Research Question 1 Answer.\n",
    "2. Research Question 2 Answer.\n",
    "3. Research Question 3 Answer.\n",
    "4. Research Question 4 Answer.\n",
    "\"\"\""
   ]
  },
  {
   "cell_type": "code",
   "execution_count": 62,
   "id": "c95e5f66",
   "metadata": {},
   "outputs": [
    {
     "data": {
      "text/plain": [
       "\"RESEARCH QUESTIONS ANSWERS:\\n1. The varying degrees of morphological complexity in languages, such as isolating, fusional, agglutinative, and polysynthetic typologies, present significant challenges to machine translation systems, particularly in low-resource language contexts. Isolating languages, characterized by minimal inflection, may lead to a lack of morphological information, complicating the translation process. In contrast, fusional languages, which combine multiple grammatical categories into single morphemes, can result in ambiguity and difficulty in disambiguating forms. Agglutinative languages, with their extensive use of affixes, may overwhelm translation systems with numerous morphological variations, while polysynthetic languages, which can express complex ideas in single words through extensive affixation, pose challenges in capturing the full semantic and syntactic nuances. The limited availability of training data exacerbates these issues, as machine translation systems rely heavily on large corpora to learn and generalize morphological patterns.\\n\\n2. To address the challenges posed by morphological complexity in low-resource languages, several techniques have been proposed. Rule-based methods, such as finite-state transducers, have been employed to model morphological rules explicitly, allowing for the generation and analysis of word forms. Statistical models, including phrase-based and syntax-based approaches, leverage existing bilingual corpora to learn translation probabilities, although they may struggle with morphological richness. More recently, neural architectures, particularly those utilizing subword modeling techniques like Byte Pair Encoding (BPE) or WordPiece, have gained traction. These methods decompose words into smaller units, enabling the handling of rare and morphologically complex forms by learning representations that capture morphological relationships.\\n\\n3. Morphology-aware techniques, such as subword modeling and morphological analyzers, have shown varying effectiveness in low-resource machine translation contexts. Subword modeling techniques, by breaking down words into smaller, more manageable units, can significantly enhance the model's ability to generalize across morphological variations, thus improving translation quality. Morphological analyzers, which provide explicit morphological analyses of words, can enhance the understanding of complex forms and improve the accuracy of translations. However, the effectiveness of these techniques can be contingent on the specific morphological characteristics of the language in question, as well as the quality and size of the training data available.\\n\\n4. The specific findings, challenges, and proposed solutions for machine translation of languages across different morphological typologies reveal distinct patterns. For polysynthetic languages, the challenge lies in the extensive morphological information encoded within single words, necessitating advanced morphological analysis and representation techniques to capture the full semantic content. Agglutinative languages often require robust morphological analyzers to handle the multitude of affixes and their combinations, with solutions focusing on rule-based systems and subword modeling to manage the complexity. In the case of fusional languages, the primary challenge is the ambiguity introduced by the fusion of grammatical categories, which can be addressed through the development of sophisticated disambiguation algorithms and the integration of contextual information. Overall, the proposed solutions across these typologies emphasize the need for tailored morphological analysis tools and the incorporation of advanced machine learning techniques to enhance translation accuracy and fluency.\""
      ]
     },
     "execution_count": 62,
     "metadata": {},
     "output_type": "execute_result"
    }
   ],
   "source": [
    "model = \"gpt-4o-mini\"\n",
    "response = prompt_gpt(model, prompt, max_tokens=2000)\n",
    "response"
   ]
  },
  {
   "cell_type": "code",
   "execution_count": 63,
   "id": "5c8d1b91",
   "metadata": {},
   "outputs": [
    {
     "data": {
      "text/plain": [
       "['1. The varying degrees of morphological complexity in languages, such as isolating, fusional, agglutinative, and polysynthetic typologies, present significant challenges to machine translation systems, particularly in low-resource language contexts. Isolating languages, characterized by minimal inflection, may lead to a lack of morphological information, complicating the translation process. In contrast, fusional languages, which combine multiple grammatical categories into single morphemes, can result in ambiguity and difficulty in disambiguating forms. Agglutinative languages, with their extensive use of affixes, may overwhelm translation systems with numerous morphological variations, while polysynthetic languages, which can express complex ideas in single words through extensive affixation, pose challenges in capturing the full semantic and syntactic nuances. The limited availability of training data exacerbates these issues, as machine translation systems rely heavily on large corpora to learn and generalize morphological patterns.',\n",
       " '2. To address the challenges posed by morphological complexity in low-resource languages, several techniques have been proposed. Rule-based methods, such as finite-state transducers, have been employed to model morphological rules explicitly, allowing for the generation and analysis of word forms. Statistical models, including phrase-based and syntax-based approaches, leverage existing bilingual corpora to learn translation probabilities, although they may struggle with morphological richness. More recently, neural architectures, particularly those utilizing subword modeling techniques like Byte Pair Encoding (BPE) or WordPiece, have gained traction. These methods decompose words into smaller units, enabling the handling of rare and morphologically complex forms by learning representations that capture morphological relationships.',\n",
       " \"3. Morphology-aware techniques, such as subword modeling and morphological analyzers, have shown varying effectiveness in low-resource machine translation contexts. Subword modeling techniques, by breaking down words into smaller, more manageable units, can significantly enhance the model's ability to generalize across morphological variations, thus improving translation quality. Morphological analyzers, which provide explicit morphological analyses of words, can enhance the understanding of complex forms and improve the accuracy of translations. However, the effectiveness of these techniques can be contingent on the specific morphological characteristics of the language in question, as well as the quality and size of the training data available.\",\n",
       " '4. The specific findings, challenges, and proposed solutions for machine translation of languages across different morphological typologies reveal distinct patterns. For polysynthetic languages, the challenge lies in the extensive morphological information encoded within single words, necessitating advanced morphological analysis and representation techniques to capture the full semantic content. Agglutinative languages often require robust morphological analyzers to handle the multitude of affixes and their combinations, with solutions focusing on rule-based systems and subword modeling to manage the complexity. In the case of fusional languages, the primary challenge is the ambiguity introduced by the fusion of grammatical categories, which can be addressed through the development of sophisticated disambiguation algorithms and the integration of contextual information. Overall, the proposed solutions across these typologies emphasize the need for tailored morphological analysis tools and the incorporation of advanced machine learning techniques to enhance translation accuracy and fluency.']"
      ]
     },
     "execution_count": 63,
     "metadata": {},
     "output_type": "execute_result"
    }
   ],
   "source": [
    "# extract the answers from the response\n",
    "response_answers = response.split(\"\\n\")\n",
    "response_answers = [\n",
    "    ans\n",
    "    for ans in response_answers\n",
    "    if ans.strip() and not ans.startswith(\"RESEARCH QUESTIONS ANSWERS:\")\n",
    "]\n",
    "response_answers"
   ]
  },
  {
   "cell_type": "code",
   "execution_count": null,
   "id": "f0907bae",
   "metadata": {},
   "outputs": [],
   "source": []
  }
 ],
 "metadata": {
  "kernelspec": {
   "display_name": ".venv",
   "language": "python",
   "name": "python3"
  },
  "language_info": {
   "codemirror_mode": {
    "name": "ipython",
    "version": 3
   },
   "file_extension": ".py",
   "mimetype": "text/x-python",
   "name": "python",
   "nbconvert_exporter": "python",
   "pygments_lexer": "ipython3",
   "version": "3.11.6"
  }
 },
 "nbformat": 4,
 "nbformat_minor": 5
}
