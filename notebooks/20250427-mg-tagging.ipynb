{
 "cells": [
  {
   "cell_type": "markdown",
   "id": "2a990c60",
   "metadata": {},
   "source": [
    "# Tagging paper categories"
   ]
  },
  {
   "cell_type": "code",
   "execution_count": 1,
   "id": "ec417d98",
   "metadata": {},
   "outputs": [],
   "source": [
    "import os\n",
    "from dotenv import load_dotenv\n",
    "from openai import OpenAI\n",
    "\n",
    "%load_ext autoreload\n",
    "%autoreload 2"
   ]
  },
  {
   "cell_type": "code",
   "execution_count": 2,
   "id": "e2fdcf34",
   "metadata": {},
   "outputs": [],
   "source": [
    "# load environment variables\n",
    "load_dotenv()\n",
    "\n",
    "# get API key\n",
    "api_key = os.getenv(\"OPENAI_API_KEY\")\n",
    "\n",
    "# init OpenAI client\n",
    "client = OpenAI(api_key=api_key)\n",
    "\n",
    "\n",
    "def prompt_gpt(\n",
    "    model,\n",
    "    prompt: str,\n",
    "    temperature: float = 0.0,\n",
    "    max_tokens: int = 200,\n",
    "):\n",
    "    # query ChatGPT\n",
    "    chat_completion = client.chat.completions.create(\n",
    "        model=model,\n",
    "        messages=[\n",
    "            {\n",
    "                \"role\": \"system\",\n",
    "                \"content\": \"You are a helpful assistant designed to carefully analyze academic papers based on specific instructions.\",\n",
    "            },\n",
    "            {\n",
    "                \"role\": \"user\",\n",
    "                \"content\": prompt,\n",
    "            },\n",
    "        ],\n",
    "        temperature=temperature,\n",
    "        max_tokens=max_tokens,\n",
    "    )\n",
    "    return chat_completion.choices[0].message.content"
   ]
  },
  {
   "cell_type": "code",
   "execution_count": 3,
   "id": "3cad0284",
   "metadata": {},
   "outputs": [
    {
     "name": "stdout",
     "output_type": "stream",
     "text": [
      "This is a test.\n"
     ]
    }
   ],
   "source": [
    "model = \"gpt-4o-mini\"\n",
    "prompt = \"Say 'this is a test' and nothing else.\"\n",
    "response = prompt_gpt(model, prompt)\n",
    "print(response)"
   ]
  },
  {
   "cell_type": "code",
   "execution_count": 4,
   "id": "8410a574",
   "metadata": {},
   "outputs": [
    {
     "data": {
      "text/html": [
       "<div>\n",
       "<style scoped>\n",
       "    .dataframe tbody tr th:only-of-type {\n",
       "        vertical-align: middle;\n",
       "    }\n",
       "\n",
       "    .dataframe tbody tr th {\n",
       "        vertical-align: top;\n",
       "    }\n",
       "\n",
       "    .dataframe thead th {\n",
       "        text-align: right;\n",
       "    }\n",
       "</style>\n",
       "<table border=\"1\" class=\"dataframe\">\n",
       "  <thead>\n",
       "    <tr style=\"text-align: right;\">\n",
       "      <th></th>\n",
       "      <th>title</th>\n",
       "      <th>text</th>\n",
       "      <th>morphology</th>\n",
       "      <th>methodology</th>\n",
       "    </tr>\n",
       "  </thead>\n",
       "  <tbody>\n",
       "    <tr>\n",
       "      <th>0</th>\n",
       "      <td>a comparative study of english to kannada base...</td>\n",
       "      <td>International Journal of Applied Engineering R...</td>\n",
       "      <td>agglutinat</td>\n",
       "      <td>data augmentation</td>\n",
       "    </tr>\n",
       "    <tr>\n",
       "      <th>1</th>\n",
       "      <td>a comparison of transformer, recurrent neural ...</td>\n",
       "      <td>2020 20th International Conference on Advances...</td>\n",
       "      <td>agglutinat</td>\n",
       "      <td>morphological analyzer, segmentation</td>\n",
       "    </tr>\n",
       "    <tr>\n",
       "      <th>2</th>\n",
       "      <td>a morpheme-based weighting for chinese-mongoli...</td>\n",
       "      <td>IEICE TRANS. INF. &amp; SYST., VOL.E99–D, NO.11 NO...</td>\n",
       "      <td>NaN</td>\n",
       "      <td>segmentation</td>\n",
       "    </tr>\n",
       "    <tr>\n",
       "      <th>3</th>\n",
       "      <td>a morphological analyser for maltese</td>\n",
       "      <td>ScienceDirect\\nAvailable online at www.science...</td>\n",
       "      <td>fusional</td>\n",
       "      <td>morphological analyzer</td>\n",
       "    </tr>\n",
       "    <tr>\n",
       "      <th>4</th>\n",
       "      <td>a multi-agent solution for managing complexity...</td>\n",
       "      <td>B. Hettige et al., Int. J. of Design &amp; Nature ...</td>\n",
       "      <td>NaN</td>\n",
       "      <td>morphological analyzer</td>\n",
       "    </tr>\n",
       "  </tbody>\n",
       "</table>\n",
       "</div>"
      ],
      "text/plain": [
       "                                               title  \\\n",
       "0  a comparative study of english to kannada base...   \n",
       "1  a comparison of transformer, recurrent neural ...   \n",
       "2  a morpheme-based weighting for chinese-mongoli...   \n",
       "3               a morphological analyser for maltese   \n",
       "4  a multi-agent solution for managing complexity...   \n",
       "\n",
       "                                                text  morphology  \\\n",
       "0  International Journal of Applied Engineering R...  agglutinat   \n",
       "1  2020 20th International Conference on Advances...  agglutinat   \n",
       "2  IEICE TRANS. INF. & SYST., VOL.E99–D, NO.11 NO...         NaN   \n",
       "3  ScienceDirect\\nAvailable online at www.science...    fusional   \n",
       "4  B. Hettige et al., Int. J. of Design & Nature ...         NaN   \n",
       "\n",
       "                            methodology  \n",
       "0                     data augmentation  \n",
       "1  morphological analyzer, segmentation  \n",
       "2                          segmentation  \n",
       "3                morphological analyzer  \n",
       "4                morphological analyzer  "
      ]
     },
     "metadata": {},
     "output_type": "display_data"
    },
    {
     "data": {
      "text/plain": [
       "title          177\n",
       "text           177\n",
       "morphology     125\n",
       "methodology    150\n",
       "dtype: int64"
      ]
     },
     "metadata": {},
     "output_type": "display_data"
    }
   ],
   "source": [
    "import pandas as pd\n",
    "\n",
    "data_path = \"../data/full-text.csv\"\n",
    "full_df = pd.read_csv(data_path)\n",
    "# remove .pdf from the title\n",
    "full_df[\"title\"] = full_df[\"title\"].str.replace(\".pdf\", \"\", regex=False)\n",
    "display(full_df.head())\n",
    "display(full_df.count())"
   ]
  },
  {
   "cell_type": "code",
   "execution_count": 5,
   "id": "54d26caa",
   "metadata": {},
   "outputs": [
    {
     "data": {
      "text/html": [
       "<div>\n",
       "<style scoped>\n",
       "    .dataframe tbody tr th:only-of-type {\n",
       "        vertical-align: middle;\n",
       "    }\n",
       "\n",
       "    .dataframe tbody tr th {\n",
       "        vertical-align: top;\n",
       "    }\n",
       "\n",
       "    .dataframe thead th {\n",
       "        text-align: right;\n",
       "    }\n",
       "</style>\n",
       "<table border=\"1\" class=\"dataframe\">\n",
       "  <thead>\n",
       "    <tr style=\"text-align: right;\">\n",
       "      <th></th>\n",
       "      <th>title</th>\n",
       "    </tr>\n",
       "  </thead>\n",
       "  <tbody>\n",
       "    <tr>\n",
       "      <th>0</th>\n",
       "      <td>a morphological analyser for maltese</td>\n",
       "    </tr>\n",
       "    <tr>\n",
       "      <th>1</th>\n",
       "      <td>a novel morphological analysis based approach ...</td>\n",
       "    </tr>\n",
       "    <tr>\n",
       "      <th>2</th>\n",
       "      <td>a systematic analysis of subwords and cross-li...</td>\n",
       "    </tr>\n",
       "    <tr>\n",
       "      <th>3</th>\n",
       "      <td>an evaluation of subword segmentation strategi...</td>\n",
       "    </tr>\n",
       "    <tr>\n",
       "      <th>4</th>\n",
       "      <td>analysis of subword tokenization for transform...</td>\n",
       "    </tr>\n",
       "  </tbody>\n",
       "</table>\n",
       "</div>"
      ],
      "text/plain": [
       "                                               title\n",
       "0               a morphological analyser for maltese\n",
       "1  a novel morphological analysis based approach ...\n",
       "2  a systematic analysis of subwords and cross-li...\n",
       "3  an evaluation of subword segmentation strategi...\n",
       "4  analysis of subword tokenization for transform..."
      ]
     },
     "metadata": {},
     "output_type": "display_data"
    },
    {
     "data": {
      "text/plain": [
       "title    47\n",
       "dtype: int64"
      ]
     },
     "metadata": {},
     "output_type": "display_data"
    }
   ],
   "source": [
    "murilo_df = pd.read_csv(\"../data/murilo_titles.csv\")\n",
    "display(murilo_df.head())\n",
    "display(murilo_df.count())"
   ]
  },
  {
   "cell_type": "code",
   "execution_count": 17,
   "id": "024840ac",
   "metadata": {},
   "outputs": [
    {
     "data": {
      "text/html": [
       "<div>\n",
       "<style scoped>\n",
       "    .dataframe tbody tr th:only-of-type {\n",
       "        vertical-align: middle;\n",
       "    }\n",
       "\n",
       "    .dataframe tbody tr th {\n",
       "        vertical-align: top;\n",
       "    }\n",
       "\n",
       "    .dataframe thead th {\n",
       "        text-align: right;\n",
       "    }\n",
       "</style>\n",
       "<table border=\"1\" class=\"dataframe\">\n",
       "  <thead>\n",
       "    <tr style=\"text-align: right;\">\n",
       "      <th></th>\n",
       "      <th>title</th>\n",
       "      <th>text</th>\n",
       "      <th>morphology</th>\n",
       "      <th>methodology</th>\n",
       "    </tr>\n",
       "  </thead>\n",
       "  <tbody>\n",
       "    <tr>\n",
       "      <th>0</th>\n",
       "      <td>a morphological analyser for maltese</td>\n",
       "      <td>ScienceDirect\\nAvailable online at www.science...</td>\n",
       "      <td>fusional</td>\n",
       "      <td>morphological analyzer</td>\n",
       "    </tr>\n",
       "    <tr>\n",
       "      <th>1</th>\n",
       "      <td>a novel morphological analysis based approach ...</td>\n",
       "      <td>(IJACSA) International Journal of Advanced Com...</td>\n",
       "      <td>NaN</td>\n",
       "      <td>NaN</td>\n",
       "    </tr>\n",
       "    <tr>\n",
       "      <th>2</th>\n",
       "      <td>a systematic analysis of subwords and cross-li...</td>\n",
       "      <td>Findings of the Association for Computational ...</td>\n",
       "      <td>analytic, agglutinat</td>\n",
       "      <td>subword modeling, segmentation</td>\n",
       "    </tr>\n",
       "    <tr>\n",
       "      <th>3</th>\n",
       "      <td>analysis of subword tokenization for transform...</td>\n",
       "      <td>\\n979-8-3503-5362-4/24/$31.00 ©2024 IEEE  Ana...</td>\n",
       "      <td>agglutinat</td>\n",
       "      <td>subword modeling, segmentation</td>\n",
       "    </tr>\n",
       "    <tr>\n",
       "      <th>4</th>\n",
       "      <td>chinese-uyghur bilingual lexicon induction bas...</td>\n",
       "      <td>Chinese-Uyghur Bilingual Lexicon Induction Ba...</td>\n",
       "      <td>NaN</td>\n",
       "      <td>morphological analyzer, segmentation, data aug...</td>\n",
       "    </tr>\n",
       "  </tbody>\n",
       "</table>\n",
       "</div>"
      ],
      "text/plain": [
       "                                               title  \\\n",
       "0               a morphological analyser for maltese   \n",
       "1  a novel morphological analysis based approach ...   \n",
       "2  a systematic analysis of subwords and cross-li...   \n",
       "3  analysis of subword tokenization for transform...   \n",
       "4  chinese-uyghur bilingual lexicon induction bas...   \n",
       "\n",
       "                                                text            morphology  \\\n",
       "0  ScienceDirect\\nAvailable online at www.science...              fusional   \n",
       "1  (IJACSA) International Journal of Advanced Com...                   NaN   \n",
       "2  Findings of the Association for Computational ...  analytic, agglutinat   \n",
       "3   \\n979-8-3503-5362-4/24/$31.00 ©2024 IEEE  Ana...            agglutinat   \n",
       "4   Chinese-Uyghur Bilingual Lexicon Induction Ba...                   NaN   \n",
       "\n",
       "                                         methodology  \n",
       "0                             morphological analyzer  \n",
       "1                                                NaN  \n",
       "2                     subword modeling, segmentation  \n",
       "3                     subword modeling, segmentation  \n",
       "4  morphological analyzer, segmentation, data aug...  "
      ]
     },
     "metadata": {},
     "output_type": "display_data"
    },
    {
     "data": {
      "text/plain": [
       "title          40\n",
       "text           40\n",
       "morphology     32\n",
       "methodology    35\n",
       "dtype: int64"
      ]
     },
     "metadata": {},
     "output_type": "display_data"
    }
   ],
   "source": [
    "# filter the dataframe to only include the titles in murilo_titles\n",
    "filtered_df = full_df[full_df[\"title\"].isin(murilo_df[\"title\"])]\n",
    "# reset the index\n",
    "filtered_df = filtered_df.reset_index(drop=True)\n",
    "display(filtered_df.head())\n",
    "display(filtered_df.count())"
   ]
  },
  {
   "cell_type": "code",
   "execution_count": 18,
   "id": "6b90792b",
   "metadata": {},
   "outputs": [],
   "source": [
    "# RQs\n",
    "research_questions = \"\"\"\n",
    "    1. What challenges do varying degrees of morphological complexity (e.g., isolating, fusional, agglutinative, and polysynthetic languages) pose to machine translation systems in a low-resource language context?\n",
    "    2. What techniques (e.g., rule-based methods, statistical models, or neural architectures) have been proposed to address these challenges?\n",
    "    3. How do morphology-aware techniques (e.g. subword modeling, morphological analyzers) compare in effectiveness for low-resource machine translation?\n",
    "    4. What are the specific findings, challenges, and proposed solutions and results for machine translation of languages in each different morphological typology (polysynthetic, agglutinative, fusional)?\n",
    "\"\"\""
   ]
  },
  {
   "cell_type": "code",
   "execution_count": 19,
   "id": "fc8646b6",
   "metadata": {},
   "outputs": [],
   "source": [
    "# get the first paper\n",
    "text = filtered_df[\"text\"].iloc[0]\n",
    "\n",
    "prompt = f\"\"\"\n",
    "Based on the following paper, answer the following research questions with as much detail as possible and using highly technical language.\n",
    "\n",
    "RESEARCH QUESTIONS:\n",
    "{research_questions}\n",
    "\n",
    "PAPER:\n",
    "{text}\n",
    "\n",
    "Only return the answers to each research question in the following format:\n",
    "RESEARCH QUESTIONS ANSWERS:\n",
    "1. Research Question 1 Answer.\n",
    "2. Research Question 2 Answer.\n",
    "3. Research Question 3 Answer.\n",
    "4. Research Question 4 Answer.\n",
    "\"\"\""
   ]
  },
  {
   "cell_type": "code",
   "execution_count": 20,
   "id": "c95e5f66",
   "metadata": {},
   "outputs": [
    {
     "data": {
      "text/plain": [
       "\"RESEARCH QUESTIONS ANSWERS:\\n1. The varying degrees of morphological complexity in languages, such as isolating, fusional, agglutinative, and polysynthetic typologies, present significant challenges to machine translation systems, particularly in low-resource language contexts. Isolating languages, characterized by minimal inflection, may lead to a lack of morphological information, complicating the translation process. In contrast, fusional languages, which combine multiple grammatical categories into single morphemes, can result in ambiguity and difficulty in disambiguating forms. Agglutinative languages, with their extensive use of affixes, may overwhelm translation systems with numerous morphological variations, while polysynthetic languages, which can express complex ideas in single words through extensive morphological processes, pose challenges in capturing the full semantic content during translation. The limited availability of training data for low-resource languages exacerbates these issues, as machine translation systems often rely on large corpora to learn and generalize morphological patterns.\\n\\n2. To address the challenges posed by morphological complexity in machine translation, several techniques have been proposed. Rule-based methods leverage linguistic knowledge to create explicit morphological rules, allowing for the generation and analysis of word forms. Statistical models, including phrase-based and syntax-based approaches, utilize probabilistic frameworks to learn from available data, although they may struggle with the intricacies of morphology. More recently, neural architectures, particularly those employing sequence-to-sequence models and attention mechanisms, have shown promise in capturing morphological relationships and generating translations. Additionally, morphology-aware techniques, such as subword modeling (e.g., Byte Pair Encoding) and morphological analyzers, have been integrated into neural models to enhance their ability to handle complex morphological structures.\\n\\n3. Morphology-aware techniques, including subword modeling and morphological analyzers, have demonstrated varying degrees of effectiveness in low-resource machine translation contexts. Subword modeling allows for the decomposition of words into smaller units, enabling the model to handle unseen words and morphological variations more effectively. This approach mitigates the out-of-vocabulary problem and enhances the model's ability to generalize across different morphological forms. Morphological analyzers, on the other hand, provide explicit morphological information, which can improve the accuracy of translations by ensuring that the system understands the underlying morphological structure of words. Empirical evaluations suggest that incorporating these techniques can lead to improved translation quality, particularly for languages with rich morphological systems, as they facilitate better handling of inflectional and derivational processes.\\n\\n4. The specific findings, challenges, and proposed solutions for machine translation of languages across different morphological typologies reveal distinct patterns. For polysynthetic languages, the challenge lies in the extensive morphological complexity that can lead to a single word encapsulating an entire sentence's meaning; solutions often involve the development of specialized morphological analyzers to parse and generate these complex forms. In agglutinative languages, the primary challenge is the proliferation of affixes that can create numerous word forms; techniques such as subword modeling and rule-based morphological analysis have been employed to manage this complexity effectively. For fusional languages, where multiple grammatical features are fused into single morphemes, the challenge is disambiguation; statistical and neural models that incorporate morphological features have shown promise in addressing this issue. Overall, the findings indicate that tailored morphological processing techniques are crucial for improving machine translation performance across these diverse morphological typologies.\""
      ]
     },
     "execution_count": 20,
     "metadata": {},
     "output_type": "execute_result"
    }
   ],
   "source": [
    "model = \"gpt-4o-mini\"\n",
    "response = prompt_gpt(model, prompt, max_tokens=2000)\n",
    "response"
   ]
  },
  {
   "cell_type": "code",
   "execution_count": 26,
   "id": "5c8d1b91",
   "metadata": {},
   "outputs": [
    {
     "data": {
      "text/plain": [
       "['1. The varying degrees of morphological complexity in languages, such as isolating, fusional, agglutinative, and polysynthetic typologies, present significant challenges to machine translation systems, particularly in low-resource language contexts. Isolating languages, characterized by minimal inflection, may lead to a lack of morphological information, complicating the translation process. In contrast, fusional languages, which combine multiple grammatical categories into single morphemes, can result in ambiguity and difficulty in disambiguating forms. Agglutinative languages, with their extensive use of affixes, may overwhelm translation systems with numerous morphological variations, while polysynthetic languages, which can express complex ideas in single words through extensive morphological processes, pose challenges in capturing the full semantic content during translation. The limited availability of training data for low-resource languages exacerbates these issues, as machine translation systems often rely on large corpora to learn and generalize morphological patterns.',\n",
       " '2. To address the challenges posed by morphological complexity in machine translation, several techniques have been proposed. Rule-based methods leverage linguistic knowledge to create explicit morphological rules, allowing for the generation and analysis of word forms. Statistical models, including phrase-based and syntax-based approaches, utilize probabilistic frameworks to learn from available data, although they may struggle with the intricacies of morphology. More recently, neural architectures, particularly those employing sequence-to-sequence models and attention mechanisms, have shown promise in capturing morphological relationships and generating translations. Additionally, morphology-aware techniques, such as subword modeling (e.g., Byte Pair Encoding) and morphological analyzers, have been integrated into neural models to enhance their ability to handle complex morphological structures.',\n",
       " \"3. Morphology-aware techniques, including subword modeling and morphological analyzers, have demonstrated varying degrees of effectiveness in low-resource machine translation contexts. Subword modeling allows for the decomposition of words into smaller units, enabling the model to handle unseen words and morphological variations more effectively. This approach mitigates the out-of-vocabulary problem and enhances the model's ability to generalize across different morphological forms. Morphological analyzers, on the other hand, provide explicit morphological information, which can improve the accuracy of translations by ensuring that the system understands the underlying morphological structure of words. Empirical evaluations suggest that incorporating these techniques can lead to improved translation quality, particularly for languages with rich morphological systems, as they facilitate better handling of inflectional and derivational processes.\",\n",
       " \"4. The specific findings, challenges, and proposed solutions for machine translation of languages across different morphological typologies reveal distinct patterns. For polysynthetic languages, the challenge lies in the extensive morphological complexity that can lead to a single word encapsulating an entire sentence's meaning; solutions often involve the development of specialized morphological analyzers to parse and generate these complex forms. In agglutinative languages, the primary challenge is the proliferation of affixes that can create numerous word forms; techniques such as subword modeling and rule-based morphological analysis have been employed to manage this complexity effectively. For fusional languages, where multiple grammatical features are fused into single morphemes, the challenge is disambiguation; statistical and neural models that incorporate morphological features have shown promise in addressing this issue. Overall, the findings indicate that tailored morphological processing techniques are crucial for improving machine translation performance across these diverse morphological typologies.\"]"
      ]
     },
     "execution_count": 26,
     "metadata": {},
     "output_type": "execute_result"
    }
   ],
   "source": [
    "# extract the answers from the response\n",
    "def extract_answers(response):\n",
    "    response_answers = response.split(\"\\n\")\n",
    "    return [\n",
    "        ans\n",
    "        for ans in response_answers\n",
    "        if ans.strip() and not ans.startswith(\"RESEARCH QUESTIONS ANSWERS:\")\n",
    "    ]\n",
    "\n",
    "\n",
    "answers = extract_answers(response)\n",
    "answers"
   ]
  },
  {
   "cell_type": "markdown",
   "id": "149137f5",
   "metadata": {},
   "source": [
    "### wrapping the workflow in functions"
   ]
  },
  {
   "cell_type": "code",
   "execution_count": 44,
   "id": "f0907bae",
   "metadata": {},
   "outputs": [],
   "source": [
    "def get_prompt(research_questions: str, paper_text: str) -> str:\n",
    "    prompt = f\"\"\"\n",
    "    Based on the following paper, answer the following research questions with as much detail as possible and using highly technical language.\n",
    "\n",
    "    RESEARCH QUESTIONS:\n",
    "    {research_questions}\n",
    "\n",
    "    PAPER:\n",
    "    {paper_text}\n",
    "\n",
    "    Only return the answers to each research question in the following format:\n",
    "    RESEARCH QUESTIONS ANSWERS:\n",
    "    1. Research Question 1 Answer.\n",
    "    2. Research Question 2 Answer.\n",
    "    3. Research Question 3 Answer.\n",
    "    4. Research Question 4 Answer.\n",
    "    \"\"\"\n",
    "    return prompt\n",
    "\n",
    "\n",
    "# create and save dataframe with the answers\n",
    "def create_answers_df(answers: list, paper_title: str) -> pd.DataFrame:\n",
    "    answers_dict = {\n",
    "        \"title\": paper_title,\n",
    "        \"rq1_answer\": answers[0],\n",
    "        \"rq2_answer\": answers[1],\n",
    "        \"rq3_answer\": answers[2],\n",
    "        \"rq4_answer\": answers[3],\n",
    "    }\n",
    "    return pd.DataFrame([answers_dict])\n",
    "\n",
    "\n",
    "def generate_answers(\n",
    "    df: pd.DataFrame,\n",
    "    model: str,\n",
    "    research_questions: str,\n",
    "    output_dir: str,\n",
    "    dataframe_name: str = \"paper_answers\",\n",
    "    max_tokens: int = 2000,\n",
    "    use_subset: bool = False,\n",
    "):\n",
    "    if use_subset:\n",
    "        df = df.iloc[:5]\n",
    "    num_papers = len(df)\n",
    "\n",
    "    # init the dataframe to save the answers\n",
    "    output_path = f\"{output_dir}/{dataframe_name}.csv\"\n",
    "    if not os.path.exists(output_path):\n",
    "        pd.DataFrame(\n",
    "            columns=[\"title\", \"rq1_answer\", \"rq2_answer\", \"rq3_answer\", \"rq4_answer\"]\n",
    "        ).to_csv(output_path, index=False)\n",
    "\n",
    "    for idx, row in df.iterrows():\n",
    "        print(f\"Processing paper {idx + 1}/{num_papers}\")\n",
    "        paper_text = row[\"text\"]\n",
    "        paper_title = row[\"title\"]\n",
    "\n",
    "        prompt = get_prompt(research_questions, paper_text)\n",
    "        response = prompt_gpt(model, prompt, max_tokens=max_tokens)\n",
    "        answers = extract_answers(response)\n",
    "\n",
    "        answers_df = create_answers_df(answers, paper_title)\n",
    "        # append to the CSV file\n",
    "        answers_df.to_csv(output_path, mode=\"a\", header=False, index=False)"
   ]
  },
  {
   "cell_type": "code",
   "execution_count": 40,
   "id": "5a895337",
   "metadata": {},
   "outputs": [
    {
     "name": "stdout",
     "output_type": "stream",
     "text": [
      "Processing paper 1/5\n",
      "Processing paper 2/5\n",
      "Processing paper 3/5\n",
      "Processing paper 4/5\n",
      "Processing paper 5/5\n"
     ]
    }
   ],
   "source": [
    "# generate answers for the first 5 papers\n",
    "output_dir = \"../data/generated_answers\"\n",
    "generate_answers(\n",
    "    filtered_df,\n",
    "    model,\n",
    "    research_questions,\n",
    "    output_dir,\n",
    "    max_tokens=2000,\n",
    "    use_subset=True,\n",
    ")"
   ]
  },
  {
   "cell_type": "markdown",
   "id": "516447c3",
   "metadata": {},
   "source": [
    "### review tagged papers"
   ]
  },
  {
   "cell_type": "code",
   "execution_count": 41,
   "id": "109851a4",
   "metadata": {},
   "outputs": [],
   "source": [
    "murilo_tagged_titles = [\n",
    "    \"analysis of subword tokenization for transformer model in neural machine translation between myanmar and english languages\",\n",
    "    \"nlprl system for very low resource supervised machine translation\",\n",
    "    \"revisiting syllables in language modelling and their application on low-resource machine translation\",\n",
    "]\n",
    "ahmad_tagged_titles = [\n",
    "    \"improved unsupervised neural machine translation with semantically weighted back translation for morphologically rich and low resource languages\",\n",
    "    \"improving translation quality for low-resource inuktitut with various preprocessing techniques\",\n",
    "    \"neural machine translation systems for english to khasi: a case study of an austroasiatic language\",\n",
    "    \"towards a low-resource neural machine translation for indigenous languages in canada\",\n",
    "    \"unsupervised pivot-based neural machine translation for english to kannada\",\n",
    "]"
   ]
  },
  {
   "cell_type": "code",
   "execution_count": 46,
   "id": "1148519b",
   "metadata": {},
   "outputs": [
    {
     "data": {
      "text/html": [
       "<div>\n",
       "<style scoped>\n",
       "    .dataframe tbody tr th:only-of-type {\n",
       "        vertical-align: middle;\n",
       "    }\n",
       "\n",
       "    .dataframe tbody tr th {\n",
       "        vertical-align: top;\n",
       "    }\n",
       "\n",
       "    .dataframe thead th {\n",
       "        text-align: right;\n",
       "    }\n",
       "</style>\n",
       "<table border=\"1\" class=\"dataframe\">\n",
       "  <thead>\n",
       "    <tr style=\"text-align: right;\">\n",
       "      <th></th>\n",
       "      <th>title</th>\n",
       "      <th>text</th>\n",
       "      <th>morphology</th>\n",
       "      <th>methodology</th>\n",
       "    </tr>\n",
       "  </thead>\n",
       "  <tbody>\n",
       "    <tr>\n",
       "      <th>0</th>\n",
       "      <td>analysis of subword tokenization for transform...</td>\n",
       "      <td>\\n979-8-3503-5362-4/24/$31.00 ©2024 IEEE  Ana...</td>\n",
       "      <td>agglutinat</td>\n",
       "      <td>subword modeling, segmentation</td>\n",
       "    </tr>\n",
       "    <tr>\n",
       "      <th>1</th>\n",
       "      <td>nlprl system for very low resource supervised ...</td>\n",
       "      <td>Proceedings of the 5th Conference on Machine T...</td>\n",
       "      <td>NaN</td>\n",
       "      <td>subword modeling, segmentation</td>\n",
       "    </tr>\n",
       "    <tr>\n",
       "      <th>2</th>\n",
       "      <td>revisiting syllables in language modelling and...</td>\n",
       "      <td>Proceedings of the 29th International Conferen...</td>\n",
       "      <td>synthetic, polysynthetic, agglutinat</td>\n",
       "      <td>segmentation</td>\n",
       "    </tr>\n",
       "  </tbody>\n",
       "</table>\n",
       "</div>"
      ],
      "text/plain": [
       "                                               title  \\\n",
       "0  analysis of subword tokenization for transform...   \n",
       "1  nlprl system for very low resource supervised ...   \n",
       "2  revisiting syllables in language modelling and...   \n",
       "\n",
       "                                                text  \\\n",
       "0   \\n979-8-3503-5362-4/24/$31.00 ©2024 IEEE  Ana...   \n",
       "1  Proceedings of the 5th Conference on Machine T...   \n",
       "2  Proceedings of the 29th International Conferen...   \n",
       "\n",
       "                             morphology                     methodology  \n",
       "0                            agglutinat  subword modeling, segmentation  \n",
       "1                                   NaN  subword modeling, segmentation  \n",
       "2  synthetic, polysynthetic, agglutinat                    segmentation  "
      ]
     },
     "metadata": {},
     "output_type": "display_data"
    },
    {
     "data": {
      "text/plain": [
       "title          3\n",
       "text           3\n",
       "morphology     2\n",
       "methodology    3\n",
       "dtype: int64"
      ]
     },
     "metadata": {},
     "output_type": "display_data"
    }
   ],
   "source": [
    "# filter the dataframe to only include the titles in murilo_titles\n",
    "murilo_df = filtered_df[filtered_df[\"title\"].isin(murilo_tagged_titles)]\n",
    "murilo_df = murilo_df.reset_index(drop=True)\n",
    "display(murilo_df.head())\n",
    "display(murilo_df.count())"
   ]
  },
  {
   "cell_type": "code",
   "execution_count": 52,
   "id": "2a7b1a90",
   "metadata": {},
   "outputs": [
    {
     "name": "stdout",
     "output_type": "stream",
     "text": [
      "Processing paper 1/3\n",
      "Processing paper 2/3\n",
      "Processing paper 3/3\n"
     ]
    }
   ],
   "source": [
    "# generate answers for the first 5 papers\n",
    "output_dir = \"../data/generated_answers\"\n",
    "generate_answers(\n",
    "    murilo_df,\n",
    "    model,\n",
    "    research_questions,\n",
    "    output_dir,\n",
    "    dataframe_name=\"murilo_tagged_answers\",\n",
    "    max_tokens=3000,\n",
    "    use_subset=False,\n",
    ")"
   ]
  },
  {
   "cell_type": "code",
   "execution_count": 53,
   "id": "48e83755",
   "metadata": {},
   "outputs": [
    {
     "data": {
      "text/html": [
       "<div>\n",
       "<style scoped>\n",
       "    .dataframe tbody tr th:only-of-type {\n",
       "        vertical-align: middle;\n",
       "    }\n",
       "\n",
       "    .dataframe tbody tr th {\n",
       "        vertical-align: top;\n",
       "    }\n",
       "\n",
       "    .dataframe thead th {\n",
       "        text-align: right;\n",
       "    }\n",
       "</style>\n",
       "<table border=\"1\" class=\"dataframe\">\n",
       "  <thead>\n",
       "    <tr style=\"text-align: right;\">\n",
       "      <th></th>\n",
       "      <th>title</th>\n",
       "      <th>rq1_answer</th>\n",
       "      <th>rq2_answer</th>\n",
       "      <th>rq3_answer</th>\n",
       "      <th>rq4_answer</th>\n",
       "    </tr>\n",
       "  </thead>\n",
       "  <tbody>\n",
       "    <tr>\n",
       "      <th>0</th>\n",
       "      <td>analysis of subword tokenization for transform...</td>\n",
       "      <td>1. The varying degrees of morphological comple...</td>\n",
       "      <td>2. To address the challenges posed by morpholo...</td>\n",
       "      <td>3. Morphology-aware techniques, such as subwor...</td>\n",
       "      <td>4. The specific findings, challenges, and prop...</td>\n",
       "    </tr>\n",
       "    <tr>\n",
       "      <th>1</th>\n",
       "      <td>nlprl system for very low resource supervised ...</td>\n",
       "      <td>1. The varying degrees of morphological comple...</td>\n",
       "      <td>2. To address these challenges, several techni...</td>\n",
       "      <td>3. Morphology-aware techniques, such as subwor...</td>\n",
       "      <td>4. The specific findings for machine translati...</td>\n",
       "    </tr>\n",
       "    <tr>\n",
       "      <th>2</th>\n",
       "      <td>revisiting syllables in language modelling and...</td>\n",
       "      <td>1. The varying degrees of morphological comple...</td>\n",
       "      <td>2. To address the challenges posed by morpholo...</td>\n",
       "      <td>3. Morphology-aware techniques, such as subwor...</td>\n",
       "      <td>4. The specific findings for machine translati...</td>\n",
       "    </tr>\n",
       "  </tbody>\n",
       "</table>\n",
       "</div>"
      ],
      "text/plain": [
       "                                               title  \\\n",
       "0  analysis of subword tokenization for transform...   \n",
       "1  nlprl system for very low resource supervised ...   \n",
       "2  revisiting syllables in language modelling and...   \n",
       "\n",
       "                                          rq1_answer  \\\n",
       "0  1. The varying degrees of morphological comple...   \n",
       "1  1. The varying degrees of morphological comple...   \n",
       "2  1. The varying degrees of morphological comple...   \n",
       "\n",
       "                                          rq2_answer  \\\n",
       "0  2. To address the challenges posed by morpholo...   \n",
       "1  2. To address these challenges, several techni...   \n",
       "2  2. To address the challenges posed by morpholo...   \n",
       "\n",
       "                                          rq3_answer  \\\n",
       "0  3. Morphology-aware techniques, such as subwor...   \n",
       "1  3. Morphology-aware techniques, such as subwor...   \n",
       "2  3. Morphology-aware techniques, such as subwor...   \n",
       "\n",
       "                                          rq4_answer  \n",
       "0  4. The specific findings, challenges, and prop...  \n",
       "1  4. The specific findings for machine translati...  \n",
       "2  4. The specific findings for machine translati...  "
      ]
     },
     "metadata": {},
     "output_type": "display_data"
    },
    {
     "data": {
      "text/plain": [
       "title         3\n",
       "rq1_answer    3\n",
       "rq2_answer    3\n",
       "rq3_answer    3\n",
       "rq4_answer    3\n",
       "dtype: int64"
      ]
     },
     "metadata": {},
     "output_type": "display_data"
    }
   ],
   "source": [
    "murilo_answers_df = pd.read_csv(f\"{output_dir}/murilo_tagged_answers.csv\")\n",
    "display(murilo_answers_df.head())\n",
    "display(murilo_answers_df.count())"
   ]
  },
  {
   "cell_type": "code",
   "execution_count": 54,
   "id": "86fe92f4",
   "metadata": {},
   "outputs": [
    {
     "name": "stdout",
     "output_type": "stream",
     "text": [
      "Title: analysis of subword tokenization for transformer model in neural machine translation between myanmar and english languages\n",
      "RQ1: 1. The varying degrees of morphological complexity in languages, such as isolating, fusional, agglutinative, and polysynthetic typologies, present significant challenges to machine translation systems, particularly in low-resource contexts. Isolating languages, characterized by a lack of inflection, may lead to simpler tokenization but can still suffer from ambiguities in meaning. Fusional languages, where a single morpheme can convey multiple grammatical functions, complicate the alignment of source and target language structures, often resulting in loss of information during translation. Agglutinative languages, which utilize a series of affixes to express grammatical relationships, can generate an extensive vocabulary of forms, exacerbating the out-of-vocabulary (OOV) problem in machine translation. Polysynthetic languages, with their highly complex word structures that can encapsulate entire sentences within single words, pose the greatest challenge, as they require the translation system to effectively parse and generate intricate morphological constructs. In low-resource scenarios, the scarcity of training data further limits the ability of machine translation models to learn these complex morphological patterns, leading to suboptimal performance.\n",
      "RQ2: 2. To address the challenges posed by morphological complexity in low-resource languages, several techniques have been proposed, including rule-based methods, statistical models, and neural architectures. Rule-based methods rely on handcrafted linguistic rules to manage morphological variations, but they often lack scalability and adaptability. Statistical models, such as phrase-based translation systems, utilize probabilistic approaches to handle morphological variations but may struggle with the nuances of complex morphology. Neural architectures, particularly Neural Machine Translation (NMT) models, have gained prominence due to their ability to learn representations from data. Within NMT, subword tokenization techniques like Byte Pair Encoding (BPE) and SentencePiece have been employed to mitigate the OOV problem by breaking down words into smaller, manageable units. These methods enhance the model's ability to generalize across morphological variations, thereby improving translation quality in low-resource contexts.\n",
      "RQ3: 3. Morphology-aware techniques, such as subword modeling and morphological analyzers, have shown varying degrees of effectiveness in low-resource machine translation. Subword modeling, particularly through BPE and unigram models, allows for the segmentation of words into smaller units, which helps in managing the morphological richness of languages. The study indicates that the choice of subword model significantly influences translation performance, with optimized Transformer models utilizing a 32k BPE subword model achieving substantial improvements in BLEU scores compared to baseline models. Morphological analyzers can further enhance translation by providing explicit morphological information, allowing the model to better understand and generate complex forms. However, the effectiveness of these techniques can vary based on the specific characteristics of the language pair and the availability of training data.\n",
      "RQ4: 4. The specific findings, challenges, and proposed solutions for machine translation of languages across different morphological typologies reveal distinct patterns. For polysynthetic languages, the challenge lies in the extreme complexity of word formation, necessitating advanced parsing techniques and robust morphological analysis to ensure accurate translation. Agglutinative languages face issues related to the extensive variety of affixed forms, which can be addressed through effective subword tokenization strategies that reduce the vocabulary size and improve model generalization. In the case of fusional languages, the challenge is primarily in the representation of grammatical relationships within single morphemes, which can be mitigated by employing attention mechanisms in NMT to capture contextual dependencies. The study highlights that while subword tokenization techniques like BPE and SentencePiece significantly enhance translation performance across these typologies, the optimal approach may vary, necessitating further research and experimentation to refine methodologies tailored to the specific morphological characteristics of each language.\n",
      "\n",
      "Title: nlprl system for very low resource supervised machine translation\n",
      "RQ1: 1. The varying degrees of morphological complexity in languages, such as isolating, fusional, agglutinative, and polysynthetic typologies, present significant challenges to machine translation systems, particularly in low-resource contexts. These challenges include the difficulty in accurately modeling the rich morphological variations and inflections that characterize these languages, leading to high out-of-vocabulary (OOV) rates. For instance, agglutinative languages often employ extensive affixation, resulting in long, complex word forms that can be inadequately represented in standard vocabulary lists. Polysynthetic languages further complicate this by allowing for the incorporation of multiple morphemes into single words, which can obscure syntactic structures and semantic meanings. Consequently, traditional word-based translation approaches may fail to capture the nuances of meaning and grammatical relationships, leading to degraded translation quality.\n",
      "RQ2: 2. To address these challenges, several techniques have been proposed, including rule-based methods, statistical models, and neural architectures. Rule-based methods leverage linguistic knowledge to create explicit morphological rules for translation, while statistical models utilize parallel corpora to learn probabilistic mappings between source and target languages. More recently, neural architectures, particularly those employing subword modeling techniques such as Byte Pair Encoding (BPE) and byte-level BPE, have gained prominence. These approaches segment words into smaller, more manageable units, thereby mitigating the OOV problem and enabling the model to generalize better across morphological variations. Additionally, transfer learning and multilingual machine translation strategies have been explored to leverage resources from related languages, enhancing performance in low-resource settings.\n",
      "RQ3: 3. Morphology-aware techniques, such as subword modeling and morphological analyzers, have shown varying degrees of effectiveness in low-resource machine translation. Subword modeling, particularly through BPE, allows for the dynamic segmentation of words into smaller units, which facilitates the handling of rare and unseen words, thus improving translation robustness. The paper indicates that the use of a byte-level version of BPE in their experiments yielded competitive BLEU scores, suggesting that such techniques can effectively address the morphological challenges posed by low-resource languages. However, the effectiveness of these techniques can be contingent upon the specific morphological characteristics of the languages involved, necessitating further empirical evaluation across diverse language pairs.\n",
      "RQ4: 4. The specific findings for machine translation of languages across different morphological typologies reveal distinct challenges and proposed solutions. For polysynthetic languages, the incorporation of multiple morphemes into single words necessitates advanced segmentation techniques to ensure accurate translation. Agglutinative languages benefit from subword modeling to manage extensive affixation, while fusional languages require careful handling of inflectional variations to maintain grammatical integrity. The results from the experiments indicated that the BBPE-based Transformer model achieved notable BLEU scores for the Upper Sorbian (HSB) to German (GER) translation, highlighting the potential of subword approaches in overcoming morphological complexities. However, challenges remain, such as the need for larger and more diverse training datasets to further enhance translation quality across these typologies.\n",
      "\n",
      "Title: revisiting syllables in language modelling and their application on low-resource machine translation\n",
      "RQ1: 1. The varying degrees of morphological complexity in languages, such as isolating, fusional, agglutinative, and polysynthetic typologies, present significant challenges to machine translation (MT) systems, particularly in low-resource contexts. Isolating languages, characterized by minimal inflection and a reliance on word order, may lead to simpler translation tasks but can still suffer from ambiguities in meaning. In contrast, fusional languages, which combine multiple grammatical categories into single morphemes, complicate the segmentation and alignment processes in MT, as the relationship between form and meaning becomes less transparent. Agglutinative languages, like Turkish, utilize a series of affixes to convey grammatical relationships, resulting in a high morpheme-to-word ratio that can overwhelm MT systems with extensive vocabulary and morphological variations. Polysynthetic languages, such as Shipibo-Konibo, exhibit extreme morphological complexity, often incorporating multiple morphemes into single words, which can lead to challenges in both encoding and decoding processes due to the vast number of possible forms and the scarcity of training data. This complexity necessitates advanced morphological analysis and segmentation techniques to ensure accurate translations.\n",
      "RQ2: 2. To address the challenges posed by morphological complexity in low-resource language contexts, several techniques have been proposed. Rule-based methods, such as syllabification and morphological analyzers, provide a structured approach to segmenting words into their constituent morphemes or syllables, facilitating better alignment in translation tasks. Statistical models, including unsupervised segmentation techniques like Byte Pair Encoding (BPE), have been employed to generate subword units that can capture morphological variations without requiring extensive annotated corpora. More recently, neural architectures have been utilized, leveraging deep learning frameworks to model complex relationships between input and output sequences. These architectures can incorporate morphological supervision and multi-task learning to enhance performance in low-resource settings, particularly when combined with multilingual training strategies that leverage shared linguistic features across related languages.\n",
      "RQ3: 3. Morphology-aware techniques, such as subword modeling and morphological analyzers, demonstrate varying effectiveness in low-resource machine translation contexts. The study indicates that syllable-based segmentation outperforms traditional character-level and unsupervised subword methods like BPE, particularly when translating into highly synthetic languages with transparent orthographies, such as Shipibo-Konibo. Syllables provide a more linguistically relevant unit of analysis, reducing sequence length and improving model performance without the need for extensive hyperparameter tuning. The results suggest that morphology-aware techniques can significantly enhance translation quality by capturing the structural nuances of complex languages, thereby facilitating better encoding and decoding processes in low-resource scenarios.\n",
      "RQ4: 4. The specific findings for machine translation of languages across different morphological typologies reveal distinct challenges and proposed solutions. For polysynthetic languages like Shipibo-Konibo, the study found that syllable-based segmentation significantly improved translation performance compared to BPE, achieving higher chrF scores and demonstrating robustness in multilingual settings. In agglutinative languages, the use of morphological segmentation methods has shown promise, but the effectiveness can vary based on the availability of annotated data and the complexity of the morphological system. For fusional languages, the integration of morphological supervision into neural architectures has been suggested as a viable approach to mitigate the challenges of inflectional variability. Overall, the findings underscore the necessity of tailored segmentation strategies that account for the unique morphological characteristics of each language type to enhance machine translation outcomes in low-resource contexts.\n",
      "\n"
     ]
    }
   ],
   "source": [
    "# first paper\n",
    "for idx, row in murilo_answers_df.iterrows():\n",
    "    paper_title = row[\"title\"]\n",
    "    rq1_answer = row[\"rq1_answer\"]\n",
    "    rq2_answer = row[\"rq2_answer\"]\n",
    "    rq3_answer = row[\"rq3_answer\"]\n",
    "    rq4_answer = row[\"rq4_answer\"]\n",
    "\n",
    "    print(f\"Title: {paper_title}\")\n",
    "    print(f\"RQ1: {rq1_answer}\")\n",
    "    print(f\"RQ2: {rq2_answer}\")\n",
    "    print(f\"RQ3: {rq3_answer}\")\n",
    "    print(f\"RQ4: {rq4_answer}\\n\")"
   ]
  },
  {
   "cell_type": "code",
   "execution_count": null,
   "id": "c6a6723e",
   "metadata": {},
   "outputs": [],
   "source": []
  }
 ],
 "metadata": {
  "kernelspec": {
   "display_name": ".venv",
   "language": "python",
   "name": "python3"
  },
  "language_info": {
   "codemirror_mode": {
    "name": "ipython",
    "version": 3
   },
   "file_extension": ".py",
   "mimetype": "text/x-python",
   "name": "python",
   "nbconvert_exporter": "python",
   "pygments_lexer": "ipython3",
   "version": "3.11.6"
  }
 },
 "nbformat": 4,
 "nbformat_minor": 5
}
