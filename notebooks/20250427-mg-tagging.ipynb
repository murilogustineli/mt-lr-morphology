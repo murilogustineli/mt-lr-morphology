{
 "cells": [
  {
   "cell_type": "markdown",
   "id": "2a990c60",
   "metadata": {},
   "source": [
    "# Tagging paper categories"
   ]
  },
  {
   "cell_type": "code",
   "execution_count": 1,
   "id": "ec417d98",
   "metadata": {},
   "outputs": [],
   "source": [
    "import os\n",
    "from dotenv import load_dotenv\n",
    "from openai import OpenAI\n",
    "\n",
    "%load_ext autoreload\n",
    "%autoreload 2"
   ]
  },
  {
   "cell_type": "code",
   "execution_count": 2,
   "id": "e2fdcf34",
   "metadata": {},
   "outputs": [],
   "source": [
    "# load environment variables\n",
    "load_dotenv()\n",
    "\n",
    "# get API key\n",
    "api_key = os.getenv(\"OPENAI_API_KEY\")\n",
    "\n",
    "# init OpenAI client\n",
    "client = OpenAI(api_key=api_key)\n",
    "\n",
    "\n",
    "def prompt_gpt(\n",
    "    model,\n",
    "    prompt: str,\n",
    "    temperature: float = 0.0,\n",
    "    max_tokens: int = 200,\n",
    "):\n",
    "    # query ChatGPT\n",
    "    chat_completion = client.chat.completions.create(\n",
    "        model=model,\n",
    "        messages=[\n",
    "            {\n",
    "                \"role\": \"system\",\n",
    "                \"content\": \"You are a helpful assistant designed to carefully analyze academic papers based on specific instructions.\",\n",
    "            },\n",
    "            {\n",
    "                \"role\": \"user\",\n",
    "                \"content\": prompt,\n",
    "            },\n",
    "        ],\n",
    "        temperature=temperature,\n",
    "        max_tokens=max_tokens,\n",
    "    )\n",
    "    return chat_completion.choices[0].message.content"
   ]
  },
  {
   "cell_type": "code",
   "execution_count": 3,
   "id": "3cad0284",
   "metadata": {},
   "outputs": [
    {
     "name": "stdout",
     "output_type": "stream",
     "text": [
      "This is a test.\n"
     ]
    }
   ],
   "source": [
    "model = \"gpt-4o-mini\"\n",
    "prompt = \"Say 'this is a test' and nothing else.\"\n",
    "response = prompt_gpt(model, prompt)\n",
    "print(response)"
   ]
  },
  {
   "cell_type": "code",
   "execution_count": 4,
   "id": "8410a574",
   "metadata": {},
   "outputs": [
    {
     "data": {
      "text/html": [
       "<div>\n",
       "<style scoped>\n",
       "    .dataframe tbody tr th:only-of-type {\n",
       "        vertical-align: middle;\n",
       "    }\n",
       "\n",
       "    .dataframe tbody tr th {\n",
       "        vertical-align: top;\n",
       "    }\n",
       "\n",
       "    .dataframe thead th {\n",
       "        text-align: right;\n",
       "    }\n",
       "</style>\n",
       "<table border=\"1\" class=\"dataframe\">\n",
       "  <thead>\n",
       "    <tr style=\"text-align: right;\">\n",
       "      <th></th>\n",
       "      <th>title</th>\n",
       "      <th>text</th>\n",
       "      <th>morphology</th>\n",
       "      <th>methodology</th>\n",
       "    </tr>\n",
       "  </thead>\n",
       "  <tbody>\n",
       "    <tr>\n",
       "      <th>0</th>\n",
       "      <td>a comparative study of english to kannada base...</td>\n",
       "      <td>International Journal of Applied Engineering R...</td>\n",
       "      <td>agglutinat</td>\n",
       "      <td>data augmentation</td>\n",
       "    </tr>\n",
       "    <tr>\n",
       "      <th>1</th>\n",
       "      <td>a comparison of transformer, recurrent neural ...</td>\n",
       "      <td>2020 20th International Conference on Advances...</td>\n",
       "      <td>agglutinat</td>\n",
       "      <td>morphological analyzer, segmentation</td>\n",
       "    </tr>\n",
       "    <tr>\n",
       "      <th>2</th>\n",
       "      <td>a morpheme-based weighting for chinese-mongoli...</td>\n",
       "      <td>IEICE TRANS. INF. &amp; SYST., VOL.E99–D, NO.11 NO...</td>\n",
       "      <td>NaN</td>\n",
       "      <td>segmentation</td>\n",
       "    </tr>\n",
       "    <tr>\n",
       "      <th>3</th>\n",
       "      <td>a morphological analyser for maltese</td>\n",
       "      <td>ScienceDirect\\nAvailable online at www.science...</td>\n",
       "      <td>fusional</td>\n",
       "      <td>morphological analyzer</td>\n",
       "    </tr>\n",
       "    <tr>\n",
       "      <th>4</th>\n",
       "      <td>a multi-agent solution for managing complexity...</td>\n",
       "      <td>B. Hettige et al., Int. J. of Design &amp; Nature ...</td>\n",
       "      <td>NaN</td>\n",
       "      <td>morphological analyzer</td>\n",
       "    </tr>\n",
       "  </tbody>\n",
       "</table>\n",
       "</div>"
      ],
      "text/plain": [
       "                                               title  \\\n",
       "0  a comparative study of english to kannada base...   \n",
       "1  a comparison of transformer, recurrent neural ...   \n",
       "2  a morpheme-based weighting for chinese-mongoli...   \n",
       "3               a morphological analyser for maltese   \n",
       "4  a multi-agent solution for managing complexity...   \n",
       "\n",
       "                                                text  morphology  \\\n",
       "0  International Journal of Applied Engineering R...  agglutinat   \n",
       "1  2020 20th International Conference on Advances...  agglutinat   \n",
       "2  IEICE TRANS. INF. & SYST., VOL.E99–D, NO.11 NO...         NaN   \n",
       "3  ScienceDirect\\nAvailable online at www.science...    fusional   \n",
       "4  B. Hettige et al., Int. J. of Design & Nature ...         NaN   \n",
       "\n",
       "                            methodology  \n",
       "0                     data augmentation  \n",
       "1  morphological analyzer, segmentation  \n",
       "2                          segmentation  \n",
       "3                morphological analyzer  \n",
       "4                morphological analyzer  "
      ]
     },
     "metadata": {},
     "output_type": "display_data"
    },
    {
     "data": {
      "text/plain": [
       "title          177\n",
       "text           177\n",
       "morphology     125\n",
       "methodology    150\n",
       "dtype: int64"
      ]
     },
     "metadata": {},
     "output_type": "display_data"
    }
   ],
   "source": [
    "import pandas as pd\n",
    "\n",
    "data_path = \"../data/full-text.csv\"\n",
    "full_df = pd.read_csv(data_path)\n",
    "# remove .pdf from the title\n",
    "full_df[\"title\"] = full_df[\"title\"].str.replace(\".pdf\", \"\", regex=False)\n",
    "display(full_df.head())\n",
    "display(full_df.count())"
   ]
  },
  {
   "cell_type": "code",
   "execution_count": 5,
   "id": "54d26caa",
   "metadata": {},
   "outputs": [
    {
     "data": {
      "text/html": [
       "<div>\n",
       "<style scoped>\n",
       "    .dataframe tbody tr th:only-of-type {\n",
       "        vertical-align: middle;\n",
       "    }\n",
       "\n",
       "    .dataframe tbody tr th {\n",
       "        vertical-align: top;\n",
       "    }\n",
       "\n",
       "    .dataframe thead th {\n",
       "        text-align: right;\n",
       "    }\n",
       "</style>\n",
       "<table border=\"1\" class=\"dataframe\">\n",
       "  <thead>\n",
       "    <tr style=\"text-align: right;\">\n",
       "      <th></th>\n",
       "      <th>title</th>\n",
       "    </tr>\n",
       "  </thead>\n",
       "  <tbody>\n",
       "    <tr>\n",
       "      <th>0</th>\n",
       "      <td>a morphological analyser for maltese</td>\n",
       "    </tr>\n",
       "    <tr>\n",
       "      <th>1</th>\n",
       "      <td>a novel morphological analysis based approach ...</td>\n",
       "    </tr>\n",
       "    <tr>\n",
       "      <th>2</th>\n",
       "      <td>a systematic analysis of subwords and cross-li...</td>\n",
       "    </tr>\n",
       "    <tr>\n",
       "      <th>3</th>\n",
       "      <td>an evaluation of subword segmentation strategi...</td>\n",
       "    </tr>\n",
       "    <tr>\n",
       "      <th>4</th>\n",
       "      <td>analysis of subword tokenization for transform...</td>\n",
       "    </tr>\n",
       "  </tbody>\n",
       "</table>\n",
       "</div>"
      ],
      "text/plain": [
       "                                               title\n",
       "0               a morphological analyser for maltese\n",
       "1  a novel morphological analysis based approach ...\n",
       "2  a systematic analysis of subwords and cross-li...\n",
       "3  an evaluation of subword segmentation strategi...\n",
       "4  analysis of subword tokenization for transform..."
      ]
     },
     "metadata": {},
     "output_type": "display_data"
    },
    {
     "data": {
      "text/plain": [
       "title    47\n",
       "dtype: int64"
      ]
     },
     "metadata": {},
     "output_type": "display_data"
    }
   ],
   "source": [
    "murilo_df = pd.read_csv(\"../data/murilo_titles.csv\")\n",
    "display(murilo_df.head())\n",
    "display(murilo_df.count())"
   ]
  },
  {
   "cell_type": "code",
   "execution_count": 17,
   "id": "024840ac",
   "metadata": {},
   "outputs": [
    {
     "data": {
      "text/html": [
       "<div>\n",
       "<style scoped>\n",
       "    .dataframe tbody tr th:only-of-type {\n",
       "        vertical-align: middle;\n",
       "    }\n",
       "\n",
       "    .dataframe tbody tr th {\n",
       "        vertical-align: top;\n",
       "    }\n",
       "\n",
       "    .dataframe thead th {\n",
       "        text-align: right;\n",
       "    }\n",
       "</style>\n",
       "<table border=\"1\" class=\"dataframe\">\n",
       "  <thead>\n",
       "    <tr style=\"text-align: right;\">\n",
       "      <th></th>\n",
       "      <th>title</th>\n",
       "      <th>text</th>\n",
       "      <th>morphology</th>\n",
       "      <th>methodology</th>\n",
       "    </tr>\n",
       "  </thead>\n",
       "  <tbody>\n",
       "    <tr>\n",
       "      <th>0</th>\n",
       "      <td>a morphological analyser for maltese</td>\n",
       "      <td>ScienceDirect\\nAvailable online at www.science...</td>\n",
       "      <td>fusional</td>\n",
       "      <td>morphological analyzer</td>\n",
       "    </tr>\n",
       "    <tr>\n",
       "      <th>1</th>\n",
       "      <td>a novel morphological analysis based approach ...</td>\n",
       "      <td>(IJACSA) International Journal of Advanced Com...</td>\n",
       "      <td>NaN</td>\n",
       "      <td>NaN</td>\n",
       "    </tr>\n",
       "    <tr>\n",
       "      <th>2</th>\n",
       "      <td>a systematic analysis of subwords and cross-li...</td>\n",
       "      <td>Findings of the Association for Computational ...</td>\n",
       "      <td>analytic, agglutinat</td>\n",
       "      <td>subword modeling, segmentation</td>\n",
       "    </tr>\n",
       "    <tr>\n",
       "      <th>3</th>\n",
       "      <td>analysis of subword tokenization for transform...</td>\n",
       "      <td>\\n979-8-3503-5362-4/24/$31.00 ©2024 IEEE  Ana...</td>\n",
       "      <td>agglutinat</td>\n",
       "      <td>subword modeling, segmentation</td>\n",
       "    </tr>\n",
       "    <tr>\n",
       "      <th>4</th>\n",
       "      <td>chinese-uyghur bilingual lexicon induction bas...</td>\n",
       "      <td>Chinese-Uyghur Bilingual Lexicon Induction Ba...</td>\n",
       "      <td>NaN</td>\n",
       "      <td>morphological analyzer, segmentation, data aug...</td>\n",
       "    </tr>\n",
       "  </tbody>\n",
       "</table>\n",
       "</div>"
      ],
      "text/plain": [
       "                                               title  \\\n",
       "0               a morphological analyser for maltese   \n",
       "1  a novel morphological analysis based approach ...   \n",
       "2  a systematic analysis of subwords and cross-li...   \n",
       "3  analysis of subword tokenization for transform...   \n",
       "4  chinese-uyghur bilingual lexicon induction bas...   \n",
       "\n",
       "                                                text            morphology  \\\n",
       "0  ScienceDirect\\nAvailable online at www.science...              fusional   \n",
       "1  (IJACSA) International Journal of Advanced Com...                   NaN   \n",
       "2  Findings of the Association for Computational ...  analytic, agglutinat   \n",
       "3   \\n979-8-3503-5362-4/24/$31.00 ©2024 IEEE  Ana...            agglutinat   \n",
       "4   Chinese-Uyghur Bilingual Lexicon Induction Ba...                   NaN   \n",
       "\n",
       "                                         methodology  \n",
       "0                             morphological analyzer  \n",
       "1                                                NaN  \n",
       "2                     subword modeling, segmentation  \n",
       "3                     subword modeling, segmentation  \n",
       "4  morphological analyzer, segmentation, data aug...  "
      ]
     },
     "metadata": {},
     "output_type": "display_data"
    },
    {
     "data": {
      "text/plain": [
       "title          40\n",
       "text           40\n",
       "morphology     32\n",
       "methodology    35\n",
       "dtype: int64"
      ]
     },
     "metadata": {},
     "output_type": "display_data"
    }
   ],
   "source": [
    "# filter the dataframe to only include the titles in murilo_titles\n",
    "filtered_df = full_df[full_df[\"title\"].isin(murilo_df[\"title\"])]\n",
    "# reset the index\n",
    "filtered_df = filtered_df.reset_index(drop=True)\n",
    "display(filtered_df.head())\n",
    "display(filtered_df.count())"
   ]
  },
  {
   "cell_type": "code",
   "execution_count": 18,
   "id": "6b90792b",
   "metadata": {},
   "outputs": [],
   "source": [
    "# RQs\n",
    "research_questions = \"\"\"\n",
    "    1. What challenges do varying degrees of morphological complexity (e.g., isolating, fusional, agglutinative, and polysynthetic languages) pose to machine translation systems in a low-resource language context?\n",
    "    2. What techniques (e.g., rule-based methods, statistical models, or neural architectures) have been proposed to address these challenges?\n",
    "    3. How do morphology-aware techniques (e.g. subword modeling, morphological analyzers) compare in effectiveness for low-resource machine translation?\n",
    "    4. What are the specific findings, challenges, and proposed solutions and results for machine translation of languages in each different morphological typology (polysynthetic, agglutinative, fusional)?\n",
    "\"\"\""
   ]
  },
  {
   "cell_type": "code",
   "execution_count": 19,
   "id": "fc8646b6",
   "metadata": {},
   "outputs": [],
   "source": [
    "# get the first paper\n",
    "text = filtered_df[\"text\"].iloc[0]\n",
    "\n",
    "prompt = f\"\"\"\n",
    "Based on the following paper, answer the following research questions with as much detail as possible and using highly technical language.\n",
    "\n",
    "RESEARCH QUESTIONS:\n",
    "{research_questions}\n",
    "\n",
    "PAPER:\n",
    "{text}\n",
    "\n",
    "Only return the answers to each research question in the following format:\n",
    "RESEARCH QUESTIONS ANSWERS:\n",
    "1. Research Question 1 Answer.\n",
    "2. Research Question 2 Answer.\n",
    "3. Research Question 3 Answer.\n",
    "4. Research Question 4 Answer.\n",
    "\"\"\""
   ]
  },
  {
   "cell_type": "code",
   "execution_count": 20,
   "id": "c95e5f66",
   "metadata": {},
   "outputs": [
    {
     "data": {
      "text/plain": [
       "\"RESEARCH QUESTIONS ANSWERS:\\n1. The varying degrees of morphological complexity in languages, such as isolating, fusional, agglutinative, and polysynthetic typologies, present significant challenges to machine translation systems, particularly in low-resource language contexts. Isolating languages, characterized by minimal inflection, may lead to a lack of morphological information, complicating the translation process. In contrast, fusional languages, which combine multiple grammatical categories into single morphemes, can result in ambiguity and difficulty in disambiguating forms. Agglutinative languages, with their extensive use of affixes, may overwhelm translation systems with numerous morphological variations, while polysynthetic languages, which can express complex ideas in single words through extensive morphological processes, pose challenges in capturing the full semantic content during translation. The limited availability of training data for low-resource languages exacerbates these issues, as machine translation systems often rely on large corpora to learn and generalize morphological patterns.\\n\\n2. To address the challenges posed by morphological complexity in machine translation, several techniques have been proposed. Rule-based methods leverage linguistic knowledge to create explicit morphological rules, allowing for the generation and analysis of word forms. Statistical models, including phrase-based and syntax-based approaches, utilize probabilistic frameworks to learn from available data, although they may struggle with the intricacies of morphology. More recently, neural architectures, particularly those employing sequence-to-sequence models and attention mechanisms, have shown promise in capturing morphological relationships and generating translations. Additionally, morphology-aware techniques, such as subword modeling (e.g., Byte Pair Encoding) and morphological analyzers, have been integrated into neural models to enhance their ability to handle complex morphological structures.\\n\\n3. Morphology-aware techniques, including subword modeling and morphological analyzers, have demonstrated varying degrees of effectiveness in low-resource machine translation contexts. Subword modeling allows for the decomposition of words into smaller units, enabling the model to handle unseen words and morphological variations more effectively. This approach mitigates the out-of-vocabulary problem and enhances the model's ability to generalize across different morphological forms. Morphological analyzers, on the other hand, provide explicit morphological information, which can improve the accuracy of translations by ensuring that the system understands the underlying morphological structure of words. Empirical evaluations suggest that incorporating these techniques can lead to improved translation quality, particularly for languages with rich morphological systems, as they facilitate better handling of inflectional and derivational processes.\\n\\n4. The specific findings, challenges, and proposed solutions for machine translation of languages across different morphological typologies reveal distinct patterns. For polysynthetic languages, the challenge lies in the extensive morphological complexity that can lead to a single word encapsulating an entire sentence's meaning; solutions often involve the development of specialized morphological analyzers to parse and generate these complex forms. In agglutinative languages, the primary challenge is the proliferation of affixes that can create numerous word forms; techniques such as subword modeling and rule-based morphological analysis have been employed to manage this complexity effectively. For fusional languages, where multiple grammatical features are fused into single morphemes, the challenge is disambiguation; statistical and neural models that incorporate morphological features have shown promise in addressing this issue. Overall, the findings indicate that tailored morphological processing techniques are crucial for improving machine translation performance across these diverse morphological typologies.\""
      ]
     },
     "execution_count": 20,
     "metadata": {},
     "output_type": "execute_result"
    }
   ],
   "source": [
    "model = \"gpt-4o-mini\"\n",
    "response = prompt_gpt(model, prompt, max_tokens=2000)\n",
    "response"
   ]
  },
  {
   "cell_type": "code",
   "execution_count": 26,
   "id": "5c8d1b91",
   "metadata": {},
   "outputs": [
    {
     "data": {
      "text/plain": [
       "['1. The varying degrees of morphological complexity in languages, such as isolating, fusional, agglutinative, and polysynthetic typologies, present significant challenges to machine translation systems, particularly in low-resource language contexts. Isolating languages, characterized by minimal inflection, may lead to a lack of morphological information, complicating the translation process. In contrast, fusional languages, which combine multiple grammatical categories into single morphemes, can result in ambiguity and difficulty in disambiguating forms. Agglutinative languages, with their extensive use of affixes, may overwhelm translation systems with numerous morphological variations, while polysynthetic languages, which can express complex ideas in single words through extensive morphological processes, pose challenges in capturing the full semantic content during translation. The limited availability of training data for low-resource languages exacerbates these issues, as machine translation systems often rely on large corpora to learn and generalize morphological patterns.',\n",
       " '2. To address the challenges posed by morphological complexity in machine translation, several techniques have been proposed. Rule-based methods leverage linguistic knowledge to create explicit morphological rules, allowing for the generation and analysis of word forms. Statistical models, including phrase-based and syntax-based approaches, utilize probabilistic frameworks to learn from available data, although they may struggle with the intricacies of morphology. More recently, neural architectures, particularly those employing sequence-to-sequence models and attention mechanisms, have shown promise in capturing morphological relationships and generating translations. Additionally, morphology-aware techniques, such as subword modeling (e.g., Byte Pair Encoding) and morphological analyzers, have been integrated into neural models to enhance their ability to handle complex morphological structures.',\n",
       " \"3. Morphology-aware techniques, including subword modeling and morphological analyzers, have demonstrated varying degrees of effectiveness in low-resource machine translation contexts. Subword modeling allows for the decomposition of words into smaller units, enabling the model to handle unseen words and morphological variations more effectively. This approach mitigates the out-of-vocabulary problem and enhances the model's ability to generalize across different morphological forms. Morphological analyzers, on the other hand, provide explicit morphological information, which can improve the accuracy of translations by ensuring that the system understands the underlying morphological structure of words. Empirical evaluations suggest that incorporating these techniques can lead to improved translation quality, particularly for languages with rich morphological systems, as they facilitate better handling of inflectional and derivational processes.\",\n",
       " \"4. The specific findings, challenges, and proposed solutions for machine translation of languages across different morphological typologies reveal distinct patterns. For polysynthetic languages, the challenge lies in the extensive morphological complexity that can lead to a single word encapsulating an entire sentence's meaning; solutions often involve the development of specialized morphological analyzers to parse and generate these complex forms. In agglutinative languages, the primary challenge is the proliferation of affixes that can create numerous word forms; techniques such as subword modeling and rule-based morphological analysis have been employed to manage this complexity effectively. For fusional languages, where multiple grammatical features are fused into single morphemes, the challenge is disambiguation; statistical and neural models that incorporate morphological features have shown promise in addressing this issue. Overall, the findings indicate that tailored morphological processing techniques are crucial for improving machine translation performance across these diverse morphological typologies.\"]"
      ]
     },
     "execution_count": 26,
     "metadata": {},
     "output_type": "execute_result"
    }
   ],
   "source": [
    "# extract the answers from the response\n",
    "def extract_answers(response):\n",
    "    response_answers = response.split(\"\\n\")\n",
    "    return [\n",
    "        ans\n",
    "        for ans in response_answers\n",
    "        if ans.strip() and not ans.startswith(\"RESEARCH QUESTIONS ANSWERS:\")\n",
    "    ]\n",
    "\n",
    "\n",
    "answers = extract_answers(response)\n",
    "answers"
   ]
  },
  {
   "cell_type": "markdown",
   "id": "149137f5",
   "metadata": {},
   "source": [
    "### wrapping the workflow in functions"
   ]
  },
  {
   "cell_type": "code",
   "execution_count": 38,
   "id": "f0907bae",
   "metadata": {},
   "outputs": [],
   "source": [
    "def get_prompt(research_questions: str, paper_text: str) -> str:\n",
    "    prompt = f\"\"\"\n",
    "    Based on the following paper, answer the following research questions with as much detail as possible and using highly technical language.\n",
    "\n",
    "    RESEARCH QUESTIONS:\n",
    "    {research_questions}\n",
    "\n",
    "    PAPER:\n",
    "    {paper_text}\n",
    "\n",
    "    Only return the answers to each research question in the following format:\n",
    "    RESEARCH QUESTIONS ANSWERS:\n",
    "    1. Research Question 1 Answer.\n",
    "    2. Research Question 2 Answer.\n",
    "    3. Research Question 3 Answer.\n",
    "    4. Research Question 4 Answer.\n",
    "    \"\"\"\n",
    "    return prompt\n",
    "\n",
    "\n",
    "# create and save dataframe with the answers\n",
    "def create_answers_df(answers: list, paper_title: str) -> pd.DataFrame:\n",
    "    answers_dict = {\n",
    "        \"title\": paper_title,\n",
    "        \"rq1_answer\": answers[0],\n",
    "        \"rq2_answer\": answers[1],\n",
    "        \"rq3_answer\": answers[2],\n",
    "        \"rq4_answer\": answers[3],\n",
    "    }\n",
    "    return pd.DataFrame([answers_dict])\n",
    "\n",
    "\n",
    "def generate_answers(\n",
    "    df: pd.DataFrame,\n",
    "    model: str,\n",
    "    research_questions: str,\n",
    "    output_dir: str,\n",
    "    max_tokens: int = 2000,\n",
    "    use_subset: bool = False,\n",
    "):\n",
    "    if use_subset:\n",
    "        df = df.iloc[:5]\n",
    "    num_papers = len(df)\n",
    "\n",
    "    # init the dataframe to save the answers\n",
    "    file_name = \"paper_answers.csv\"\n",
    "    output_path = f\"{output_dir}/{file_name}\"\n",
    "    if not os.path.exists(output_path):\n",
    "        pd.DataFrame(\n",
    "            columns=[\"title\", \"rq1_answer\", \"rq2_answer\", \"rq3_answer\", \"rq4_answer\"]\n",
    "        ).to_csv(output_path, index=False)\n",
    "\n",
    "    for idx, row in df.iterrows():\n",
    "        print(f\"Processing paper {idx + 1}/{num_papers}\")\n",
    "        paper_text = row[\"text\"]\n",
    "        paper_title = row[\"title\"]\n",
    "\n",
    "        prompt = get_prompt(research_questions, paper_text)\n",
    "        response = prompt_gpt(model, prompt, max_tokens=max_tokens)\n",
    "        answers = extract_answers(response)\n",
    "\n",
    "        answers_df = create_answers_df(answers, paper_title)\n",
    "        # append to the CSV file\n",
    "        answers_df.to_csv(output_path, mode=\"a\", header=False, index=False)"
   ]
  },
  {
   "cell_type": "code",
   "execution_count": 40,
   "id": "5a895337",
   "metadata": {},
   "outputs": [
    {
     "name": "stdout",
     "output_type": "stream",
     "text": [
      "Processing paper 1/5\n",
      "Processing paper 2/5\n",
      "Processing paper 3/5\n",
      "Processing paper 4/5\n",
      "Processing paper 5/5\n"
     ]
    }
   ],
   "source": [
    "# generate answers for the first 5 papers\n",
    "output_dir = \"../data/generated_answers\"\n",
    "generate_answers(\n",
    "    filtered_df,\n",
    "    model,\n",
    "    research_questions,\n",
    "    output_dir,\n",
    "    max_tokens=2000,\n",
    "    use_subset=True,\n",
    ")"
   ]
  },
  {
   "cell_type": "code",
   "execution_count": null,
   "id": "109851a4",
   "metadata": {},
   "outputs": [],
   "source": []
  }
 ],
 "metadata": {
  "kernelspec": {
   "display_name": ".venv",
   "language": "python",
   "name": "python3"
  },
  "language_info": {
   "codemirror_mode": {
    "name": "ipython",
    "version": 3
   },
   "file_extension": ".py",
   "mimetype": "text/x-python",
   "name": "python",
   "nbconvert_exporter": "python",
   "pygments_lexer": "ipython3",
   "version": "3.11.6"
  }
 },
 "nbformat": 4,
 "nbformat_minor": 5
}
